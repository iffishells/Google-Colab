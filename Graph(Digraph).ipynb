{
  "nbformat": 4,
  "nbformat_minor": 0,
  "metadata": {
    "colab": {
      "name": "Graph(Digraph).ipynb",
      "private_outputs": true,
      "provenance": [],
      "collapsed_sections": [],
      "authorship_tag": "ABX9TyOsknqYzbNf0Rg7YuBqoG5d",
      "include_colab_link": true
    },
    "kernelspec": {
      "name": "python3",
      "display_name": "Python 3"
    },
    "language_info": {
      "name": "python"
    }
  },
  "cells": [
    {
      "cell_type": "markdown",
      "metadata": {
        "id": "view-in-github",
        "colab_type": "text"
      },
      "source": [
        "<a href=\"https://colab.research.google.com/github/iffishells/Google-Colab/blob/main/Graph(Digraph).ipynb\" target=\"_parent\"><img src=\"https://colab.research.google.com/assets/colab-badge.svg\" alt=\"Open In Colab\"/></a>"
      ]
    },
    {
      "cell_type": "markdown",
      "metadata": {
        "id": "oB09lEyh8_BB"
      },
      "source": [
        "# *Implementation of Algorithm Uniform Cast Search*"
      ]
    },
    {
      "cell_type": "code",
      "metadata": {
        "id": "SxBmwc-M84mg"
      },
      "source": [
        "from graphviz import Digraph\n",
        "\n",
        "def visualize_tree(tree):\n",
        "\n",
        "  if tree is None:\n",
        "    return \"Nothin in the tree\"\n",
        "\n",
        "  def add_nodes_edges(tree,dot=None):\n",
        "    # Create digraph object\n",
        "    if dot is None:\n",
        "      dot = Digraph()\n",
        "      dot.attr('node', shape='circle')\n",
        "      dot.node(name=str(tree), label=str(tree.val))\n",
        "    for child in [tree.left, tree.right]:\n",
        "      if child is not None:\n",
        "        if child == tree.left: dot.attr('node', shape='circle', style='filled',\n",
        "        fillcolor='lightblue')\n",
        "        if child == tree.right: dot.attr('node', shape='doublecircle', style='filled',\n",
        "        fillcolor='seashell')\n",
        "        dot.node(name=str(child) ,label=str(child.val))\n",
        "        dot.edge(str(tree), str(child))\n",
        "        dot = add_nodes_edges(child, dot=dot) # recursive call\n",
        "    \n",
        "    return dot\n",
        "  # Add nodes recursively and create a list of edges\n",
        "  dot = add_nodes_edges(tree)\n",
        "  # Visualize the graph\n",
        "  display(dot)\n",
        "\n",
        "def print_tree(tree, level=0, label='.'):\n",
        "  print(' ' * (level*2) + label + ' : ', tree.val)\n",
        "  for child, lbl in zip([tree.left, tree.right], ['L', 'R']):\n",
        "    if child is not None:\n",
        "      print_tree(child, level+1, lbl)"
      ],
      "execution_count": null,
      "outputs": []
    },
    {
      "cell_type": "code",
      "metadata": {
        "id": "FmpXxteL9abq"
      },
      "source": [
        "\n",
        "\n",
        "class TreeNode:\n",
        "    def __init__(self,x):\n",
        "        self.val = x \n",
        "        self.left = None\n",
        "        self.right = None\n",
        "\n",
        "    def bfs(self):\n",
        "        to_visit = [self]\n",
        "\n",
        "        while to_visit:\n",
        "            current = to_visit.pop(0)\n",
        "\n",
        "            print(current.val)\n",
        "\n",
        "            if current.left :\n",
        "                to_visit.append(current.left)\n",
        "\n",
        "            if current.right:\n",
        "                to_visit.append(current.right)\n",
        "\n",
        "\n",
        "\n",
        "\n",
        "t1 = TreeNode(1)\n",
        "\n",
        "t1.left = TreeNode(4)\n",
        "t1.right = TreeNode(12)\n",
        "t1.left.left = TreeNode(14)\n",
        "t1.left.right = TreeNode(20)\n",
        "t1.right.left = TreeNode(50)\n",
        "\n",
        "visualize_tree(t1)\n",
        "t1.bfs()"
      ],
      "execution_count": null,
      "outputs": []
    },
    {
      "cell_type": "code",
      "metadata": {
        "id": "FbdyHfbg9xzC"
      },
      "source": [
        "import networkx as nx\n",
        "import matplotlib.pyplot as plt\n",
        "\n",
        "\n",
        "%matplotlib inline\n",
        "\n",
        "import warnings\n",
        "warnings.filterwarnings(\"ignore\")\n",
        "\n",
        "\n",
        "def draw_graph_with_nx(G): \n",
        "    pos = nx.spring_layout(G, iterations=200)\n",
        "    options = {'node_color': 'white', 'alpha': 1, 'node_size': 2000, 'width': 0.002, 'font_color': 'darkred', \n",
        "               'font_size': 25, 'arrows': True, 'edge_color': 'brown',\n",
        "               'arrowstyle': 'Fancy, head_length=1, head_width=1, tail_width=.4'\n",
        "              }\n",
        "    labels = nx.get_node_attributes(G, 'label')\n",
        "    nx.draw(G, pos, labels=labels,  **options)\n",
        "    plt.show()\n"
      ],
      "execution_count": null,
      "outputs": []
    },
    {
      "cell_type": "markdown",
      "metadata": {
        "id": "7tU6DYnEZkeM"
      },
      "source": [
        "## ***Graph***"
      ]
    },
    {
      "cell_type": "code",
      "metadata": {
        "id": "WaFadh-0Pysp"
      },
      "source": [
        "class Digraph:\n",
        "    def __init__(self):\n",
        "        self.g = {}\n",
        "\n",
        "    def add_node(self,node):\n",
        "        if node in self.g:\n",
        "            raise ValueError(\"Node already in graph\")\n",
        "        self.g[node]= []\n",
        "\n",
        "    def add_edge(self,src,dest):\n",
        "\n",
        "        #sanity checks \n",
        "        if src not in self.g:\n",
        "            raise ValueError(\"Src node not in Graph\")\n",
        "        if dest not in self.g:\n",
        "            raise ValueError(\"Dest node not in Graph\")\n",
        "\n",
        "        nexts = self.g[src]\n",
        "        if dest in nexts:\n",
        "            return\n",
        "\n",
        "        nexts.append(dest)\n",
        "\n",
        "    def draw_graph(self):\n",
        "\n",
        "        G = nx.DiGraph()\n",
        "\n",
        "        for src in self.g:\n",
        "\n",
        "            G.add_node(src, label = src)\n",
        "            for dest in self.g[src]:\n",
        "                G.add_edge(src,dest)\n",
        "        draw_graph_with_nx(G)\n",
        "\n"
      ],
      "execution_count": null,
      "outputs": []
    },
    {
      "cell_type": "code",
      "metadata": {
        "id": "YkXAP3OUSAgM"
      },
      "source": [
        "g = Digraph()\n",
        "\n",
        "nodes = [\"a\" , \"b\" , \"c\", \"d\", \"e\", \"f\"]\n",
        "\n",
        "for n in nodes:\n",
        "    g.add_node(n)\n",
        "# cost = {\n",
        "#     ('a','b') : 10,\n",
        "#     ('a','c') : 5\n",
        "#     ('b','c') : 6\n",
        "#     ('b','d') : 6,\n",
        "#     ('c','d') : 5,\n",
        "#     ('d','c') : 6,\n",
        "#     ('e','f'): 9,\n",
        "#     ('f','c') 45:\n",
        "# }\n",
        "\n",
        "edges = [\n",
        "         ('a','b' ,10),\n",
        "         ('a','c' ,12),\n",
        "         ('b','c',12),\n",
        "         ('b','d',23),\n",
        "         ('c','d',4),\n",
        "         ('d','c',5),\n",
        "         ('e','f',1),\n",
        "         ('f','c',4)\n",
        "]\n",
        "for e in edges:\n",
        "    g.add_edge(e[0],e[1])"
      ],
      "execution_count": null,
      "outputs": []
    },
    {
      "cell_type": "code",
      "metadata": {
        "id": "09hEIK8dTpq6"
      },
      "source": [
        "g.draw_graph()"
      ],
      "execution_count": null,
      "outputs": []
    },
    {
      "cell_type": "code",
      "metadata": {
        "id": "hGMhUVivTwSd"
      },
      "source": [
        ""
      ],
      "execution_count": null,
      "outputs": []
    },
    {
      "cell_type": "markdown",
      "metadata": {
        "id": "KvEsb6VRYEMS"
      },
      "source": [
        "## *Weighted Graph*"
      ]
    },
    {
      "cell_type": "code",
      "metadata": {
        "id": "IWFJfY_IU7ja"
      },
      "source": [
        ""
      ],
      "execution_count": null,
      "outputs": []
    },
    {
      "cell_type": "code",
      "metadata": {
        "id": "fLDU94r9ZAya"
      },
      "source": [
        ""
      ],
      "execution_count": null,
      "outputs": []
    },
    {
      "cell_type": "code",
      "metadata": {
        "id": "IWH9fxVlaLzb"
      },
      "source": [
        "wg.draw_graph()"
      ],
      "execution_count": null,
      "outputs": []
    },
    {
      "cell_type": "code",
      "metadata": {
        "id": "0gVVMrbFbs4L"
      },
      "source": [
        ""
      ],
      "execution_count": null,
      "outputs": []
    },
    {
      "cell_type": "code",
      "metadata": {
        "id": "S60egOWsb_jz"
      },
      "source": [
        ""
      ],
      "execution_count": null,
      "outputs": []
    },
    {
      "cell_type": "code",
      "metadata": {
        "id": "C9aFrplLcFX3"
      },
      "source": [
        ""
      ],
      "execution_count": null,
      "outputs": []
    }
  ]
}