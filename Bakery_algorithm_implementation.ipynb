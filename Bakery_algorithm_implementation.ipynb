{
  "nbformat": 4,
  "nbformat_minor": 0,
  "metadata": {
    "colab": {
      "name": "Bakery-algorithm-implementation.ipynb",
      "private_outputs": true,
      "provenance": [],
      "collapsed_sections": [],
      "authorship_tag": "ABX9TyO1pzEFgt2x9CBGrOZH2HRX",
      "include_colab_link": true
    },
    "kernelspec": {
      "name": "python3",
      "display_name": "Python 3"
    },
    "language_info": {
      "name": "python"
    }
  },
  "cells": [
    {
      "cell_type": "markdown",
      "metadata": {
        "id": "view-in-github",
        "colab_type": "text"
      },
      "source": [
        "<a href=\"https://colab.research.google.com/github/iffishells/Google-Colab/blob/main/Bakery_algorithm_implementation.ipynb\" target=\"_parent\"><img src=\"https://colab.research.google.com/assets/colab-badge.svg\" alt=\"Open In Colab\"/></a>"
      ]
    },
    {
      "cell_type": "code",
      "metadata": {
        "id": "FpC6jsIDq1UA"
      },
      "source": [
        "def loc(i):\n",
        "\n",
        "    num = [0,0,0,0,0]   ## number of the processes\n",
        "    num[i] = max(num[0],num[1],num[2],num[3],num[4])+1\n",
        "\n",
        "    p=0\n",
        "    while(p<5):\n",
        "        while(num[p] !=0 and num[p] < num[i]):\n",
        "            print(\"Enter proccess ID is  : \",i)\n",
        "            print(\"Entered in the critical section\") \n",
        "            unlock(i)\n",
        "            p+=1\n",
        "def unlock(i):\n",
        "    num[i]=0"
      ],
      "execution_count": null,
      "outputs": []
    },
    {
      "cell_type": "code",
      "metadata": {
        "id": "NtUDBVQRsjS9"
      },
      "source": [
        "entering = [False]*5"
      ],
      "execution_count": null,
      "outputs": []
    },
    {
      "cell_type": "code",
      "metadata": {
        "id": "50ar8fact6-D"
      },
      "source": [
        "entering"
      ],
      "execution_count": null,
      "outputs": []
    },
    {
      "cell_type": "code",
      "metadata": {
        "id": "096rbmAkt8pR"
      },
      "source": [
        ""
      ],
      "execution_count": null,
      "outputs": []
    }
  ]
}