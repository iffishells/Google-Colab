{
  "nbformat": 4,
  "nbformat_minor": 0,
  "metadata": {
    "colab": {
      "name": "A01.ipynb",
      "provenance": [],
      "collapsed_sections": [],
      "authorship_tag": "ABX9TyMiJ0h+VeLisX/LEBInoVjQ",
      "include_colab_link": true
    },
    "kernelspec": {
      "name": "python3",
      "display_name": "Python 3"
    }
  },
  "cells": [
    {
      "cell_type": "markdown",
      "metadata": {
        "id": "view-in-github",
        "colab_type": "text"
      },
      "source": [
        "<a href=\"https://colab.research.google.com/github/iffishells/Google-Colab/blob/main/Data-Structure%20Code.ipynb\" target=\"_parent\"><img src=\"https://colab.research.google.com/assets/colab-badge.svg\" alt=\"Open In Colab\"/></a>"
      ]
    },
    {
      "cell_type": "code",
      "metadata": {
        "id": "URP08KlaWHL4"
      },
      "source": [
        "### implementataion of stack"
      ],
      "execution_count": 3,
      "outputs": []
    },
    {
      "cell_type": "code",
      "metadata": {
        "id": "CgYlVY1kWScN"
      },
      "source": [
        "class stack:\n",
        "\n",
        "  def __init__(self):\n",
        "    self.l=[]\n",
        "\n",
        "  def push(self,val):\n",
        "    self.l.append(val)\n",
        "  \n",
        "  def pop(self):\n",
        "    return self.l.pop()\n",
        "\n",
        "  def peek(self):\n",
        "    return self.l[-1]\n"
      ],
      "execution_count": 4,
      "outputs": []
    },
    {
      "cell_type": "code",
      "metadata": {
        "colab": {
          "base_uri": "https://localhost:8080/"
        },
        "id": "Zi6O-w2rW2m5",
        "outputId": "3ef2e7b4-dd87-4191-c6c4-6658f3e3721d"
      },
      "source": [
        "s = stack()\n",
        "s.push(1)\n",
        "s.push(2)\n",
        "s.push(3)\n",
        "s.push(4)\n",
        "\n",
        "print(s.peek())\n",
        "print(s.pop())\n",
        "print(s.peek())\n"
      ],
      "execution_count": 12,
      "outputs": [
        {
          "output_type": "stream",
          "text": [
            "4\n",
            "4\n",
            "3\n"
          ],
          "name": "stdout"
        }
      ]
    },
    {
      "cell_type": "code",
      "metadata": {
        "id": "yM2D8wF_W9ql"
      },
      "source": [
        "## implementation of Queue"
      ],
      "execution_count": 13,
      "outputs": []
    },
    {
      "cell_type": "code",
      "metadata": {
        "colab": {
          "base_uri": "https://localhost:8080/"
        },
        "id": "Sz5xddAsXYuu",
        "outputId": "67ecf25c-29be-4698-a54b-c4bf8da5b4af"
      },
      "source": [
        "class Queue:\n",
        "\n",
        "  def __init__(self):\n",
        "    self.size=5\n",
        "    self.q = list(range(self.size))\n",
        "    self.i = 0\n",
        "    self.o = 0\n",
        "\n",
        "    self.is_empty = True\n",
        "    self.is_full = False\n",
        "\n",
        "def inc(self,idx):\n",
        "\n",
        "  if idx + 1 ==self.size:\n",
        "    return 0\n",
        "  else:\n",
        "    return idx +1\n",
        "Queue.inc = inc\n",
        "\n",
        "  \n",
        "def enqueue(self,val):\n",
        "\n",
        "  if self.is_full:\n",
        "    raise IndexError(\"Queue is full ,You can't be Enqueue\")\n",
        "\n",
        "  self.q[self.i] = val\n",
        "  self.i = self.inc(self.i)\n",
        "\n",
        "  if self.i == self.o:\n",
        "    self.is_full = True\n",
        "\n",
        "  self.is_empty = False\n",
        "\n",
        "Queue.enqueue = enqueue\n",
        "\n",
        "def dequeue(self):\n",
        "\n",
        "  if self.is_empty:\n",
        "    raise IndexError(\"Queue is empty you can't be dequeue\")\n",
        "\n",
        "  ret = self.q[self.o]\n",
        "  self.o = self.inc(self.o)\n",
        "\n",
        "  if self.i == self.o:\n",
        "    self.is_empty = True\n",
        "\n",
        "  self.is_ful = False\n",
        "  return ret\n",
        "\n",
        "Queue.dequeue = dequeue\n",
        "\n",
        "\n",
        "def __str__(self):\n",
        "\n",
        "  return str(self.q) + \" , in : \"+str(self.i) + \" , out: \"+ str(self.o)\n",
        "\n",
        "Queue.__str__=__str__\n",
        "\n",
        "\n",
        "q = Queue()\n",
        "\n",
        "q.enqueue(10)\n",
        "q.enqueue(20)\n",
        "q.enqueue(30)\n",
        "q.enqueue(40)\n",
        "q.enqueue(50)\n",
        "\n",
        "# q.enqueue(50)  will get error\n",
        "\n",
        "# print(q)\n",
        "\n",
        "print(q.dequeue())"
      ],
      "execution_count": 30,
      "outputs": [
        {
          "output_type": "stream",
          "text": [
            "10\n"
          ],
          "name": "stdout"
        }
      ]
    },
    {
      "cell_type": "code",
      "metadata": {
        "id": "7mPf-cN7XuhH"
      },
      "source": [
        "\n",
        "## implementation of Trees"
      ],
      "execution_count": 31,
      "outputs": []
    },
    {
      "cell_type": "code",
      "metadata": {
        "id": "W61E8r9iXzL2"
      },
      "source": [
        "class TreeNode:\n",
        "\n",
        "  def __init__(self,x):\n",
        "    self.val = x \n",
        "    self.left = None\n",
        "    self.right = None\n",
        "\n",
        "    "
      ],
      "execution_count": 48,
      "outputs": []
    },
    {
      "cell_type": "code",
      "metadata": {
        "id": "WhsuOv1CYApK"
      },
      "source": [
        "from graphviz import Digraph\n",
        "\n",
        "def visualize_tree(tree):\n",
        "\n",
        "  if tree is None:\n",
        "    return \"Nothin in the tree\"\n",
        "\n",
        "  def add_nodes_edges(tree,dot=None):\n",
        "    # Create digraph object\n",
        "    if dot is None:\n",
        "      dot = Digraph()\n",
        "      dot.attr('node', shape='circle')\n",
        "      dot.node(name=str(tree), label=str(tree.val))\n",
        "    for child in [tree.left, tree.right]:\n",
        "      if child is not None:\n",
        "        if child == tree.left: dot.attr('node', shape='circle', style='filled',\n",
        "        fillcolor='lightblue')\n",
        "        if child == tree.right: dot.attr('node', shape='doublecircle', style='filled',\n",
        "        fillcolor='seashell')\n",
        "        dot.node(name=str(child) ,label=str(child.val))\n",
        "        dot.edge(str(tree), str(child))\n",
        "        dot = add_nodes_edges(child, dot=dot) # recursive call\n",
        "    \n",
        "    return dot\n",
        "  # Add nodes recursively and create a list of edges\n",
        "  dot = add_nodes_edges(tree)\n",
        "  # Visualize the graph\n",
        "  display(dot)\n"
      ],
      "execution_count": 52,
      "outputs": []
    },
    {
      "cell_type": "code",
      "metadata": {
        "id": "fEdOXCY_bjil"
      },
      "source": [
        "def print_tree(tree, level=0, label='.'):\n",
        "  print(' ' * (level*2) + label + ' : ', tree.val)\n",
        "  for child, lbl in zip([tree.left, tree.right], ['L', 'R']):\n",
        "    if child is not None:\n",
        "      print_tree(child, level+1, lbl)"
      ],
      "execution_count": 53,
      "outputs": []
    },
    {
      "cell_type": "code",
      "metadata": {
        "colab": {
          "base_uri": "https://localhost:8080/",
          "height": 308
        },
        "id": "m0NgcL3hdl54",
        "outputId": "137b8002-3337-40cb-b97a-2d44f126b945"
      },
      "source": [
        "t1 = TreeNode(1)\n",
        "\n",
        "t1.left = TreeNode(4)\n",
        "t1.right = TreeNode(12)\n",
        "t1.left.left = TreeNode(14)\n",
        "t1.left.right = TreeNode(20)\n",
        "t1.right.left = TreeNode(50)\n",
        "\n",
        "visualize_tree(t1)"
      ],
      "execution_count": 54,
      "outputs": [
        {
          "output_type": "display_data",
          "data": {
            "text/plain": [
              "<graphviz.dot.Digraph at 0x7f4e60b2c750>"
            ],
            "image/svg+xml": "<?xml version=\"1.0\" encoding=\"UTF-8\" standalone=\"no\"?>\n<!DOCTYPE svg PUBLIC \"-//W3C//DTD SVG 1.1//EN\"\n \"http://www.w3.org/Graphics/SVG/1.1/DTD/svg11.dtd\">\n<!-- Generated by graphviz version 2.40.1 (20161225.0304)\n -->\n<!-- Title: %3 Pages: 1 -->\n<svg width=\"180pt\" height=\"215pt\"\n viewBox=\"0.00 0.00 179.60 215.19\" xmlns=\"http://www.w3.org/2000/svg\" xmlns:xlink=\"http://www.w3.org/1999/xlink\">\n<g id=\"graph0\" class=\"graph\" transform=\"scale(1 1) rotate(0) translate(4 211.1926)\">\n<title>%3</title>\n<polygon fill=\"#ffffff\" stroke=\"transparent\" points=\"-4,4 -4,-211.1926 175.5963,-211.1926 175.5963,4 -4,4\"/>\n<!-- __main__.TreeNode object at 0x7f4e60b2c290 -->\n<g id=\"node1\" class=\"node\">\n<title>__main__.TreeNode object at 0x7f4e60b2c290</title>\n<ellipse fill=\"none\" stroke=\"#000000\" cx=\"114.7982\" cy=\"-189.1926\" rx=\"18\" ry=\"18\"/>\n<text text-anchor=\"middle\" x=\"114.7982\" y=\"-185.4926\" font-family=\"Times,serif\" font-size=\"14.00\" fill=\"#000000\">1</text>\n</g>\n<!-- __main__.TreeNode object at 0x7f4e60b6ce50 -->\n<g id=\"node2\" class=\"node\">\n<title>__main__.TreeNode object at 0x7f4e60b6ce50</title>\n<ellipse fill=\"#add8e6\" stroke=\"#000000\" cx=\"84.7982\" cy=\"-110.3945\" rx=\"18\" ry=\"18\"/>\n<text text-anchor=\"middle\" x=\"84.7982\" y=\"-106.6945\" font-family=\"Times,serif\" font-size=\"14.00\" fill=\"#000000\">4</text>\n</g>\n<!-- __main__.TreeNode object at 0x7f4e60b2c290&#45;&gt;__main__.TreeNode object at 0x7f4e60b6ce50 -->\n<g id=\"edge1\" class=\"edge\">\n<title>__main__.TreeNode object at 0x7f4e60b2c290&#45;&gt;__main__.TreeNode object at 0x7f4e60b6ce50</title>\n<path fill=\"none\" stroke=\"#000000\" d=\"M108.2886,-172.0946C104.3967,-161.872 99.3677,-148.6628 94.962,-137.0908\"/>\n<polygon fill=\"#000000\" stroke=\"#000000\" points=\"98.1241,-135.5594 91.295,-127.4591 91.5822,-138.0501 98.1241,-135.5594\"/>\n</g>\n<!-- __main__.TreeNode object at 0x7f4e60ba9510 -->\n<g id=\"node5\" class=\"node\">\n<title>__main__.TreeNode object at 0x7f4e60ba9510</title>\n<ellipse fill=\"#fff5ee\" stroke=\"#000000\" cx=\"146.7982\" cy=\"-110.3945\" rx=\"20.6302\" ry=\"20.6302\"/>\n<ellipse fill=\"none\" stroke=\"#000000\" cx=\"146.7982\" cy=\"-110.3945\" rx=\"24.5979\" ry=\"24.5979\"/>\n<text text-anchor=\"middle\" x=\"146.7982\" y=\"-106.6945\" font-family=\"Times,serif\" font-size=\"14.00\" fill=\"#000000\">12</text>\n</g>\n<!-- __main__.TreeNode object at 0x7f4e60b2c290&#45;&gt;__main__.TreeNode object at 0x7f4e60ba9510 -->\n<g id=\"edge4\" class=\"edge\">\n<title>__main__.TreeNode object at 0x7f4e60b2c290&#45;&gt;__main__.TreeNode object at 0x7f4e60ba9510</title>\n<path fill=\"none\" stroke=\"#000000\" d=\"M121.5845,-172.4816C125.0603,-163.9227 129.416,-153.1969 133.5246,-143.0797\"/>\n<polygon fill=\"#000000\" stroke=\"#000000\" points=\"136.8314,-144.2389 137.3513,-133.6568 130.3458,-141.6051 136.8314,-144.2389\"/>\n</g>\n<!-- __main__.TreeNode object at 0x7f4e60b6c9d0 -->\n<g id=\"node3\" class=\"node\">\n<title>__main__.TreeNode object at 0x7f4e60b6c9d0</title>\n<ellipse fill=\"#add8e6\" stroke=\"#000000\" cx=\"20.7982\" cy=\"-24.7982\" rx=\"20.5982\" ry=\"20.5982\"/>\n<text text-anchor=\"middle\" x=\"20.7982\" y=\"-21.0982\" font-family=\"Times,serif\" font-size=\"14.00\" fill=\"#000000\">14</text>\n</g>\n<!-- __main__.TreeNode object at 0x7f4e60b6ce50&#45;&gt;__main__.TreeNode object at 0x7f4e60b6c9d0 -->\n<g id=\"edge2\" class=\"edge\">\n<title>__main__.TreeNode object at 0x7f4e60b6ce50&#45;&gt;__main__.TreeNode object at 0x7f4e60b6c9d0</title>\n<path fill=\"none\" stroke=\"#000000\" d=\"M73.9414,-95.8742C64.5804,-83.3544 50.8502,-64.991 39.6908,-50.066\"/>\n<polygon fill=\"#000000\" stroke=\"#000000\" points=\"42.2613,-47.659 33.47,-41.746 36.6551,-51.8507 42.2613,-47.659\"/>\n</g>\n<!-- __main__.TreeNode object at 0x7f4e60b6cfd0 -->\n<g id=\"node4\" class=\"node\">\n<title>__main__.TreeNode object at 0x7f4e60b6cfd0</title>\n<ellipse fill=\"#fff5ee\" stroke=\"#000000\" cx=\"84.7982\" cy=\"-24.7982\" rx=\"20.6302\" ry=\"20.6302\"/>\n<ellipse fill=\"none\" stroke=\"#000000\" cx=\"84.7982\" cy=\"-24.7982\" rx=\"24.5979\" ry=\"24.5979\"/>\n<text text-anchor=\"middle\" x=\"84.7982\" y=\"-21.0982\" font-family=\"Times,serif\" font-size=\"14.00\" fill=\"#000000\">20</text>\n</g>\n<!-- __main__.TreeNode object at 0x7f4e60b6ce50&#45;&gt;__main__.TreeNode object at 0x7f4e60b6cfd0 -->\n<g id=\"edge3\" class=\"edge\">\n<title>__main__.TreeNode object at 0x7f4e60b6ce50&#45;&gt;__main__.TreeNode object at 0x7f4e60b6cfd0</title>\n<path fill=\"none\" stroke=\"#000000\" d=\"M84.7982,-92.2417C84.7982,-82.87 84.7982,-71.1067 84.7982,-60.0397\"/>\n<polygon fill=\"#000000\" stroke=\"#000000\" points=\"88.2983,-59.743 84.7982,-49.7431 81.2983,-59.7431 88.2983,-59.743\"/>\n</g>\n<!-- __main__.TreeNode object at 0x7f4e60b6c290 -->\n<g id=\"node6\" class=\"node\">\n<title>__main__.TreeNode object at 0x7f4e60b6c290</title>\n<ellipse fill=\"#add8e6\" stroke=\"#000000\" cx=\"148.7982\" cy=\"-24.7982\" rx=\"20.5982\" ry=\"20.5982\"/>\n<text text-anchor=\"middle\" x=\"148.7982\" y=\"-21.0982\" font-family=\"Times,serif\" font-size=\"14.00\" fill=\"#000000\">50</text>\n</g>\n<!-- __main__.TreeNode object at 0x7f4e60ba9510&#45;&gt;__main__.TreeNode object at 0x7f4e60b6c290 -->\n<g id=\"edge5\" class=\"edge\">\n<title>__main__.TreeNode object at 0x7f4e60ba9510&#45;&gt;__main__.TreeNode object at 0x7f4e60b6c290</title>\n<path fill=\"none\" stroke=\"#000000\" d=\"M147.3874,-85.1757C147.6023,-75.9771 147.8479,-65.4671 148.0733,-55.8222\"/>\n<polygon fill=\"#000000\" stroke=\"#000000\" points=\"151.5728,-55.8781 148.3075,-45.799 144.5747,-55.7145 151.5728,-55.8781\"/>\n</g>\n</g>\n</svg>\n"
          },
          "metadata": {
            "tags": []
          }
        }
      ]
    },
    {
      "cell_type": "code",
      "metadata": {
        "id": "gdHhXT_keueq"
      },
      "source": [
        " ## Tree Traversal - Depth first Search"
      ],
      "execution_count": 55,
      "outputs": []
    },
    {
      "cell_type": "code",
      "metadata": {
        "id": "ww3HJkY4fxQs"
      },
      "source": [
        "def dfs(self):\n",
        "\n",
        "  print(self.val)\n",
        "\n",
        "  if self.left:\n",
        "    self.left.dfs()\n",
        "  if self.right:\n",
        "    self.right.dfs()\n",
        "\n",
        "TreeNode.dfs = dfs"
      ],
      "execution_count": 56,
      "outputs": []
    },
    {
      "cell_type": "code",
      "metadata": {
        "colab": {
          "base_uri": "https://localhost:8080/"
        },
        "id": "FkyjqySsf_BO",
        "outputId": "1ed254b5-1051-4173-f279-6fb27ee991d8"
      },
      "source": [
        "t1.dfs()"
      ],
      "execution_count": 57,
      "outputs": [
        {
          "output_type": "stream",
          "text": [
            "1\n",
            "4\n",
            "14\n",
            "20\n",
            "12\n",
            "50\n"
          ],
          "name": "stdout"
        }
      ]
    },
    {
      "cell_type": "code",
      "metadata": {
        "id": "fK1ua6GzgBTz"
      },
      "source": [
        "def dfs_inorder(self):\n",
        "\n",
        "  if self.right:\n",
        "    self.left.dfs_inorder()\n",
        "\n",
        "  print(self.val)\n",
        "\n",
        "  if self.right:\n",
        "    self.right.dfs_inorder()\n",
        "\n",
        "TreeNode.dfs_inorder = dfs_inorder\n"
      ],
      "execution_count": 58,
      "outputs": []
    },
    {
      "cell_type": "code",
      "metadata": {
        "colab": {
          "base_uri": "https://localhost:8080/"
        },
        "id": "ssGTHK0qgYz4",
        "outputId": "aafec6e9-dfe8-466a-cf6f-9d64a64e9031"
      },
      "source": [
        "t1.dfs_inorder()"
      ],
      "execution_count": 59,
      "outputs": [
        {
          "output_type": "stream",
          "text": [
            "14\n",
            "4\n",
            "20\n",
            "1\n",
            "12\n"
          ],
          "name": "stdout"
        }
      ]
    },
    {
      "cell_type": "code",
      "metadata": {
        "id": "Ckf5oSM4gbm2"
      },
      "source": [
        "def dfs_postOrder(self):\n",
        "\n",
        "  if self.left:\n",
        "    self.left.dfs_postOrder()\n",
        "\n",
        "  if self.right:\n",
        "    self.right.dfs_postOrder()\n",
        "\n",
        "  print(self.val)\n",
        "\n",
        "TreeNode.dfs_postOrder = dfs_postOrder"
      ],
      "execution_count": 60,
      "outputs": []
    },
    {
      "cell_type": "code",
      "metadata": {
        "colab": {
          "base_uri": "https://localhost:8080/"
        },
        "id": "gW3OgZvwgvcD",
        "outputId": "0a3189f8-1172-407f-a2ad-4f9d7cbf4b96"
      },
      "source": [
        "t1.dfs_postOrder()"
      ],
      "execution_count": 61,
      "outputs": [
        {
          "output_type": "stream",
          "text": [
            "14\n",
            "20\n",
            "4\n",
            "50\n",
            "12\n",
            "1\n"
          ],
          "name": "stdout"
        }
      ]
    },
    {
      "cell_type": "code",
      "metadata": {
        "colab": {
          "base_uri": "https://localhost:8080/",
          "height": 308
        },
        "id": "1cgN7waAgyVL",
        "outputId": "cf25789a-d6bb-4c63-f905-b993b2ae56c0"
      },
      "source": [
        "visualize_tree(t1)"
      ],
      "execution_count": 62,
      "outputs": [
        {
          "output_type": "display_data",
          "data": {
            "text/plain": [
              "<graphviz.dot.Digraph at 0x7f4e6047f7d0>"
            ],
            "image/svg+xml": "<?xml version=\"1.0\" encoding=\"UTF-8\" standalone=\"no\"?>\n<!DOCTYPE svg PUBLIC \"-//W3C//DTD SVG 1.1//EN\"\n \"http://www.w3.org/Graphics/SVG/1.1/DTD/svg11.dtd\">\n<!-- Generated by graphviz version 2.40.1 (20161225.0304)\n -->\n<!-- Title: %3 Pages: 1 -->\n<svg width=\"180pt\" height=\"215pt\"\n viewBox=\"0.00 0.00 179.60 215.19\" xmlns=\"http://www.w3.org/2000/svg\" xmlns:xlink=\"http://www.w3.org/1999/xlink\">\n<g id=\"graph0\" class=\"graph\" transform=\"scale(1 1) rotate(0) translate(4 211.1926)\">\n<title>%3</title>\n<polygon fill=\"#ffffff\" stroke=\"transparent\" points=\"-4,4 -4,-211.1926 175.5963,-211.1926 175.5963,4 -4,4\"/>\n<!-- __main__.TreeNode object at 0x7f4e60b2c290 -->\n<g id=\"node1\" class=\"node\">\n<title>__main__.TreeNode object at 0x7f4e60b2c290</title>\n<ellipse fill=\"none\" stroke=\"#000000\" cx=\"114.7982\" cy=\"-189.1926\" rx=\"18\" ry=\"18\"/>\n<text text-anchor=\"middle\" x=\"114.7982\" y=\"-185.4926\" font-family=\"Times,serif\" font-size=\"14.00\" fill=\"#000000\">1</text>\n</g>\n<!-- __main__.TreeNode object at 0x7f4e60b6ce50 -->\n<g id=\"node2\" class=\"node\">\n<title>__main__.TreeNode object at 0x7f4e60b6ce50</title>\n<ellipse fill=\"#add8e6\" stroke=\"#000000\" cx=\"84.7982\" cy=\"-110.3945\" rx=\"18\" ry=\"18\"/>\n<text text-anchor=\"middle\" x=\"84.7982\" y=\"-106.6945\" font-family=\"Times,serif\" font-size=\"14.00\" fill=\"#000000\">4</text>\n</g>\n<!-- __main__.TreeNode object at 0x7f4e60b2c290&#45;&gt;__main__.TreeNode object at 0x7f4e60b6ce50 -->\n<g id=\"edge1\" class=\"edge\">\n<title>__main__.TreeNode object at 0x7f4e60b2c290&#45;&gt;__main__.TreeNode object at 0x7f4e60b6ce50</title>\n<path fill=\"none\" stroke=\"#000000\" d=\"M108.2886,-172.0946C104.3967,-161.872 99.3677,-148.6628 94.962,-137.0908\"/>\n<polygon fill=\"#000000\" stroke=\"#000000\" points=\"98.1241,-135.5594 91.295,-127.4591 91.5822,-138.0501 98.1241,-135.5594\"/>\n</g>\n<!-- __main__.TreeNode object at 0x7f4e60ba9510 -->\n<g id=\"node5\" class=\"node\">\n<title>__main__.TreeNode object at 0x7f4e60ba9510</title>\n<ellipse fill=\"#fff5ee\" stroke=\"#000000\" cx=\"146.7982\" cy=\"-110.3945\" rx=\"20.6302\" ry=\"20.6302\"/>\n<ellipse fill=\"none\" stroke=\"#000000\" cx=\"146.7982\" cy=\"-110.3945\" rx=\"24.5979\" ry=\"24.5979\"/>\n<text text-anchor=\"middle\" x=\"146.7982\" y=\"-106.6945\" font-family=\"Times,serif\" font-size=\"14.00\" fill=\"#000000\">12</text>\n</g>\n<!-- __main__.TreeNode object at 0x7f4e60b2c290&#45;&gt;__main__.TreeNode object at 0x7f4e60ba9510 -->\n<g id=\"edge4\" class=\"edge\">\n<title>__main__.TreeNode object at 0x7f4e60b2c290&#45;&gt;__main__.TreeNode object at 0x7f4e60ba9510</title>\n<path fill=\"none\" stroke=\"#000000\" d=\"M121.5845,-172.4816C125.0603,-163.9227 129.416,-153.1969 133.5246,-143.0797\"/>\n<polygon fill=\"#000000\" stroke=\"#000000\" points=\"136.8314,-144.2389 137.3513,-133.6568 130.3458,-141.6051 136.8314,-144.2389\"/>\n</g>\n<!-- __main__.TreeNode object at 0x7f4e60b6c9d0 -->\n<g id=\"node3\" class=\"node\">\n<title>__main__.TreeNode object at 0x7f4e60b6c9d0</title>\n<ellipse fill=\"#add8e6\" stroke=\"#000000\" cx=\"20.7982\" cy=\"-24.7982\" rx=\"20.5982\" ry=\"20.5982\"/>\n<text text-anchor=\"middle\" x=\"20.7982\" y=\"-21.0982\" font-family=\"Times,serif\" font-size=\"14.00\" fill=\"#000000\">14</text>\n</g>\n<!-- __main__.TreeNode object at 0x7f4e60b6ce50&#45;&gt;__main__.TreeNode object at 0x7f4e60b6c9d0 -->\n<g id=\"edge2\" class=\"edge\">\n<title>__main__.TreeNode object at 0x7f4e60b6ce50&#45;&gt;__main__.TreeNode object at 0x7f4e60b6c9d0</title>\n<path fill=\"none\" stroke=\"#000000\" d=\"M73.9414,-95.8742C64.5804,-83.3544 50.8502,-64.991 39.6908,-50.066\"/>\n<polygon fill=\"#000000\" stroke=\"#000000\" points=\"42.2613,-47.659 33.47,-41.746 36.6551,-51.8507 42.2613,-47.659\"/>\n</g>\n<!-- __main__.TreeNode object at 0x7f4e60b6cfd0 -->\n<g id=\"node4\" class=\"node\">\n<title>__main__.TreeNode object at 0x7f4e60b6cfd0</title>\n<ellipse fill=\"#fff5ee\" stroke=\"#000000\" cx=\"84.7982\" cy=\"-24.7982\" rx=\"20.6302\" ry=\"20.6302\"/>\n<ellipse fill=\"none\" stroke=\"#000000\" cx=\"84.7982\" cy=\"-24.7982\" rx=\"24.5979\" ry=\"24.5979\"/>\n<text text-anchor=\"middle\" x=\"84.7982\" y=\"-21.0982\" font-family=\"Times,serif\" font-size=\"14.00\" fill=\"#000000\">20</text>\n</g>\n<!-- __main__.TreeNode object at 0x7f4e60b6ce50&#45;&gt;__main__.TreeNode object at 0x7f4e60b6cfd0 -->\n<g id=\"edge3\" class=\"edge\">\n<title>__main__.TreeNode object at 0x7f4e60b6ce50&#45;&gt;__main__.TreeNode object at 0x7f4e60b6cfd0</title>\n<path fill=\"none\" stroke=\"#000000\" d=\"M84.7982,-92.2417C84.7982,-82.87 84.7982,-71.1067 84.7982,-60.0397\"/>\n<polygon fill=\"#000000\" stroke=\"#000000\" points=\"88.2983,-59.743 84.7982,-49.7431 81.2983,-59.7431 88.2983,-59.743\"/>\n</g>\n<!-- __main__.TreeNode object at 0x7f4e60b6c290 -->\n<g id=\"node6\" class=\"node\">\n<title>__main__.TreeNode object at 0x7f4e60b6c290</title>\n<ellipse fill=\"#add8e6\" stroke=\"#000000\" cx=\"148.7982\" cy=\"-24.7982\" rx=\"20.5982\" ry=\"20.5982\"/>\n<text text-anchor=\"middle\" x=\"148.7982\" y=\"-21.0982\" font-family=\"Times,serif\" font-size=\"14.00\" fill=\"#000000\">50</text>\n</g>\n<!-- __main__.TreeNode object at 0x7f4e60ba9510&#45;&gt;__main__.TreeNode object at 0x7f4e60b6c290 -->\n<g id=\"edge5\" class=\"edge\">\n<title>__main__.TreeNode object at 0x7f4e60ba9510&#45;&gt;__main__.TreeNode object at 0x7f4e60b6c290</title>\n<path fill=\"none\" stroke=\"#000000\" d=\"M147.3874,-85.1757C147.6023,-75.9771 147.8479,-65.4671 148.0733,-55.8222\"/>\n<polygon fill=\"#000000\" stroke=\"#000000\" points=\"151.5728,-55.8781 148.3075,-45.799 144.5747,-55.7145 151.5728,-55.8781\"/>\n</g>\n</g>\n</svg>\n"
          },
          "metadata": {
            "tags": []
          }
        }
      ]
    },
    {
      "cell_type": "code",
      "metadata": {
        "id": "nPw_0uZmg236"
      },
      "source": [
        "def bfs(self):\n",
        "\n",
        "  to_visit = [self]\n",
        "\n",
        "  while to_visit:\n",
        "    current = to_visit.pop(0)\n",
        "\n",
        "    print(current.val)\n",
        "\n",
        "    if current.left :\n",
        "      to_visit.append(current.left)\n",
        "\n",
        "    if current.right:\n",
        "      to_visit.append(current.right)\n",
        "\n",
        "TreeNode.bfs = bfs"
      ],
      "execution_count": 67,
      "outputs": []
    },
    {
      "cell_type": "code",
      "metadata": {
        "colab": {
          "base_uri": "https://localhost:8080/"
        },
        "id": "J4NtaZmbsFMu",
        "outputId": "e3b58cb3-7476-47d1-e76f-7aa60f20dc56"
      },
      "source": [
        "t1.bfs()"
      ],
      "execution_count": 68,
      "outputs": [
        {
          "output_type": "stream",
          "text": [
            "1\n",
            "4\n",
            "12\n",
            "14\n",
            "20\n",
            "50\n"
          ],
          "name": "stdout"
        }
      ]
    },
    {
      "cell_type": "code",
      "metadata": {
        "id": "aQkPNFOjsP3l"
      },
      "source": [
        "## Perform Arbitrary Task on all Nodes"
      ],
      "execution_count": 69,
      "outputs": []
    },
    {
      "cell_type": "code",
      "metadata": {
        "colab": {
          "base_uri": "https://localhost:8080/",
          "height": 308
        },
        "id": "GiPt_UgdsfXM",
        "outputId": "92370e1f-7e6c-4d88-f102-3a44fb0d5529"
      },
      "source": [
        "visualize_tree(t1)"
      ],
      "execution_count": 70,
      "outputs": [
        {
          "output_type": "display_data",
          "data": {
            "text/plain": [
              "<graphviz.dot.Digraph at 0x7f4e6048f9d0>"
            ],
            "image/svg+xml": "<?xml version=\"1.0\" encoding=\"UTF-8\" standalone=\"no\"?>\n<!DOCTYPE svg PUBLIC \"-//W3C//DTD SVG 1.1//EN\"\n \"http://www.w3.org/Graphics/SVG/1.1/DTD/svg11.dtd\">\n<!-- Generated by graphviz version 2.40.1 (20161225.0304)\n -->\n<!-- Title: %3 Pages: 1 -->\n<svg width=\"180pt\" height=\"215pt\"\n viewBox=\"0.00 0.00 179.60 215.19\" xmlns=\"http://www.w3.org/2000/svg\" xmlns:xlink=\"http://www.w3.org/1999/xlink\">\n<g id=\"graph0\" class=\"graph\" transform=\"scale(1 1) rotate(0) translate(4 211.1926)\">\n<title>%3</title>\n<polygon fill=\"#ffffff\" stroke=\"transparent\" points=\"-4,4 -4,-211.1926 175.5963,-211.1926 175.5963,4 -4,4\"/>\n<!-- __main__.TreeNode object at 0x7f4e60b2c290 -->\n<g id=\"node1\" class=\"node\">\n<title>__main__.TreeNode object at 0x7f4e60b2c290</title>\n<ellipse fill=\"none\" stroke=\"#000000\" cx=\"114.7982\" cy=\"-189.1926\" rx=\"18\" ry=\"18\"/>\n<text text-anchor=\"middle\" x=\"114.7982\" y=\"-185.4926\" font-family=\"Times,serif\" font-size=\"14.00\" fill=\"#000000\">1</text>\n</g>\n<!-- __main__.TreeNode object at 0x7f4e60b6ce50 -->\n<g id=\"node2\" class=\"node\">\n<title>__main__.TreeNode object at 0x7f4e60b6ce50</title>\n<ellipse fill=\"#add8e6\" stroke=\"#000000\" cx=\"84.7982\" cy=\"-110.3945\" rx=\"18\" ry=\"18\"/>\n<text text-anchor=\"middle\" x=\"84.7982\" y=\"-106.6945\" font-family=\"Times,serif\" font-size=\"14.00\" fill=\"#000000\">4</text>\n</g>\n<!-- __main__.TreeNode object at 0x7f4e60b2c290&#45;&gt;__main__.TreeNode object at 0x7f4e60b6ce50 -->\n<g id=\"edge1\" class=\"edge\">\n<title>__main__.TreeNode object at 0x7f4e60b2c290&#45;&gt;__main__.TreeNode object at 0x7f4e60b6ce50</title>\n<path fill=\"none\" stroke=\"#000000\" d=\"M108.2886,-172.0946C104.3967,-161.872 99.3677,-148.6628 94.962,-137.0908\"/>\n<polygon fill=\"#000000\" stroke=\"#000000\" points=\"98.1241,-135.5594 91.295,-127.4591 91.5822,-138.0501 98.1241,-135.5594\"/>\n</g>\n<!-- __main__.TreeNode object at 0x7f4e60ba9510 -->\n<g id=\"node5\" class=\"node\">\n<title>__main__.TreeNode object at 0x7f4e60ba9510</title>\n<ellipse fill=\"#fff5ee\" stroke=\"#000000\" cx=\"146.7982\" cy=\"-110.3945\" rx=\"20.6302\" ry=\"20.6302\"/>\n<ellipse fill=\"none\" stroke=\"#000000\" cx=\"146.7982\" cy=\"-110.3945\" rx=\"24.5979\" ry=\"24.5979\"/>\n<text text-anchor=\"middle\" x=\"146.7982\" y=\"-106.6945\" font-family=\"Times,serif\" font-size=\"14.00\" fill=\"#000000\">12</text>\n</g>\n<!-- __main__.TreeNode object at 0x7f4e60b2c290&#45;&gt;__main__.TreeNode object at 0x7f4e60ba9510 -->\n<g id=\"edge4\" class=\"edge\">\n<title>__main__.TreeNode object at 0x7f4e60b2c290&#45;&gt;__main__.TreeNode object at 0x7f4e60ba9510</title>\n<path fill=\"none\" stroke=\"#000000\" d=\"M121.5845,-172.4816C125.0603,-163.9227 129.416,-153.1969 133.5246,-143.0797\"/>\n<polygon fill=\"#000000\" stroke=\"#000000\" points=\"136.8314,-144.2389 137.3513,-133.6568 130.3458,-141.6051 136.8314,-144.2389\"/>\n</g>\n<!-- __main__.TreeNode object at 0x7f4e60b6c9d0 -->\n<g id=\"node3\" class=\"node\">\n<title>__main__.TreeNode object at 0x7f4e60b6c9d0</title>\n<ellipse fill=\"#add8e6\" stroke=\"#000000\" cx=\"20.7982\" cy=\"-24.7982\" rx=\"20.5982\" ry=\"20.5982\"/>\n<text text-anchor=\"middle\" x=\"20.7982\" y=\"-21.0982\" font-family=\"Times,serif\" font-size=\"14.00\" fill=\"#000000\">14</text>\n</g>\n<!-- __main__.TreeNode object at 0x7f4e60b6ce50&#45;&gt;__main__.TreeNode object at 0x7f4e60b6c9d0 -->\n<g id=\"edge2\" class=\"edge\">\n<title>__main__.TreeNode object at 0x7f4e60b6ce50&#45;&gt;__main__.TreeNode object at 0x7f4e60b6c9d0</title>\n<path fill=\"none\" stroke=\"#000000\" d=\"M73.9414,-95.8742C64.5804,-83.3544 50.8502,-64.991 39.6908,-50.066\"/>\n<polygon fill=\"#000000\" stroke=\"#000000\" points=\"42.2613,-47.659 33.47,-41.746 36.6551,-51.8507 42.2613,-47.659\"/>\n</g>\n<!-- __main__.TreeNode object at 0x7f4e60b6cfd0 -->\n<g id=\"node4\" class=\"node\">\n<title>__main__.TreeNode object at 0x7f4e60b6cfd0</title>\n<ellipse fill=\"#fff5ee\" stroke=\"#000000\" cx=\"84.7982\" cy=\"-24.7982\" rx=\"20.6302\" ry=\"20.6302\"/>\n<ellipse fill=\"none\" stroke=\"#000000\" cx=\"84.7982\" cy=\"-24.7982\" rx=\"24.5979\" ry=\"24.5979\"/>\n<text text-anchor=\"middle\" x=\"84.7982\" y=\"-21.0982\" font-family=\"Times,serif\" font-size=\"14.00\" fill=\"#000000\">20</text>\n</g>\n<!-- __main__.TreeNode object at 0x7f4e60b6ce50&#45;&gt;__main__.TreeNode object at 0x7f4e60b6cfd0 -->\n<g id=\"edge3\" class=\"edge\">\n<title>__main__.TreeNode object at 0x7f4e60b6ce50&#45;&gt;__main__.TreeNode object at 0x7f4e60b6cfd0</title>\n<path fill=\"none\" stroke=\"#000000\" d=\"M84.7982,-92.2417C84.7982,-82.87 84.7982,-71.1067 84.7982,-60.0397\"/>\n<polygon fill=\"#000000\" stroke=\"#000000\" points=\"88.2983,-59.743 84.7982,-49.7431 81.2983,-59.7431 88.2983,-59.743\"/>\n</g>\n<!-- __main__.TreeNode object at 0x7f4e60b6c290 -->\n<g id=\"node6\" class=\"node\">\n<title>__main__.TreeNode object at 0x7f4e60b6c290</title>\n<ellipse fill=\"#add8e6\" stroke=\"#000000\" cx=\"148.7982\" cy=\"-24.7982\" rx=\"20.5982\" ry=\"20.5982\"/>\n<text text-anchor=\"middle\" x=\"148.7982\" y=\"-21.0982\" font-family=\"Times,serif\" font-size=\"14.00\" fill=\"#000000\">50</text>\n</g>\n<!-- __main__.TreeNode object at 0x7f4e60ba9510&#45;&gt;__main__.TreeNode object at 0x7f4e60b6c290 -->\n<g id=\"edge5\" class=\"edge\">\n<title>__main__.TreeNode object at 0x7f4e60ba9510&#45;&gt;__main__.TreeNode object at 0x7f4e60b6c290</title>\n<path fill=\"none\" stroke=\"#000000\" d=\"M147.3874,-85.1757C147.6023,-75.9771 147.8479,-65.4671 148.0733,-55.8222\"/>\n<polygon fill=\"#000000\" stroke=\"#000000\" points=\"151.5728,-55.8781 148.3075,-45.799 144.5747,-55.7145 151.5728,-55.8781\"/>\n</g>\n</g>\n</svg>\n"
          },
          "metadata": {
            "tags": []
          }
        }
      ]
    },
    {
      "cell_type": "code",
      "metadata": {
        "id": "9YK6tD7Tshmn"
      },
      "source": [
        "def dfs_apply(self,fn):\n",
        "  fn(self)\n",
        "\n",
        "  if self.left:\n",
        "    self.left.dfs_apply(fn)\n",
        "\n",
        "  if self.right:\n",
        "    self.right.dfs_apply(fn)\n",
        "\n",
        "TreeNode.dfs_apply = dfs_apply"
      ],
      "execution_count": 71,
      "outputs": []
    },
    {
      "cell_type": "code",
      "metadata": {
        "id": "gPPCtchotCrY"
      },
      "source": [
        "## Binary Search Tree"
      ],
      "execution_count": 72,
      "outputs": []
    },
    {
      "cell_type": "code",
      "metadata": {
        "id": "4IXmp8ultQoN"
      },
      "source": [
        "class TreeNode:\n",
        "\n",
        "  def __init__(self,x):\n",
        "\n",
        "    self.val = x\n",
        "    self.left = None\n",
        "    self.right = None\n",
        "\n",
        "    "
      ],
      "execution_count": 73,
      "outputs": []
    },
    {
      "cell_type": "code",
      "metadata": {
        "id": "3NzezAmWtZi2"
      },
      "source": [
        "class BST(TreeNode):\n",
        "\n",
        "  def __init__(self,val,parent=None):\n",
        "    super().__init__(val)\n",
        "    self.parent = parent\n",
        "\n",
        "\n",
        "  def insert(self,val):\n",
        "\n",
        "    if val< self.val:\n",
        "      if self.left is None:\n",
        "        new_node = BST(val,parent=self)\n",
        "        self.left = new_node\n",
        "      else:\n",
        "        self.left.insert(val)\n",
        "    else: ## greater\n",
        "      if self.right is None:\n",
        "        self.right = BST(val,parent=self)\n",
        "      else:\n",
        "        self.right.insert(val)\n",
        "\n"
      ],
      "execution_count": 74,
      "outputs": []
    },
    {
      "cell_type": "code",
      "metadata": {
        "id": "tS9ZdFd4uUhy"
      },
      "source": [
        "b = BST(20)"
      ],
      "execution_count": 75,
      "outputs": []
    },
    {
      "cell_type": "code",
      "metadata": {
        "colab": {
          "base_uri": "https://localhost:8080/",
          "height": 88
        },
        "id": "EYn8OQmpuWs-",
        "outputId": "db469441-9b0b-4ba3-a230-27d63c0799fb"
      },
      "source": [
        "visualize_tree(b)"
      ],
      "execution_count": 76,
      "outputs": [
        {
          "output_type": "display_data",
          "data": {
            "text/plain": [
              "<graphviz.dot.Digraph at 0x7f4e6043da10>"
            ],
            "image/svg+xml": "<?xml version=\"1.0\" encoding=\"UTF-8\" standalone=\"no\"?>\n<!DOCTYPE svg PUBLIC \"-//W3C//DTD SVG 1.1//EN\"\n \"http://www.w3.org/Graphics/SVG/1.1/DTD/svg11.dtd\">\n<!-- Generated by graphviz version 2.40.1 (20161225.0304)\n -->\n<!-- Title: %3 Pages: 1 -->\n<svg width=\"50pt\" height=\"50pt\"\n viewBox=\"0.00 0.00 49.60 49.60\" xmlns=\"http://www.w3.org/2000/svg\" xmlns:xlink=\"http://www.w3.org/1999/xlink\">\n<g id=\"graph0\" class=\"graph\" transform=\"scale(1 1) rotate(0) translate(4 45.5963)\">\n<title>%3</title>\n<polygon fill=\"#ffffff\" stroke=\"transparent\" points=\"-4,4 -4,-45.5963 45.5963,-45.5963 45.5963,4 -4,4\"/>\n<!-- __main__.BST object at 0x7f4e604351d0 -->\n<g id=\"node1\" class=\"node\">\n<title>__main__.BST object at 0x7f4e604351d0</title>\n<ellipse fill=\"none\" stroke=\"#000000\" cx=\"20.7982\" cy=\"-20.7982\" rx=\"20.5982\" ry=\"20.5982\"/>\n<text text-anchor=\"middle\" x=\"20.7982\" y=\"-17.0982\" font-family=\"Times,serif\" font-size=\"14.00\" fill=\"#000000\">20</text>\n</g>\n</g>\n</svg>\n"
          },
          "metadata": {
            "tags": []
          }
        }
      ]
    },
    {
      "cell_type": "code",
      "metadata": {
        "colab": {
          "base_uri": "https://localhost:8080/",
          "height": 429
        },
        "id": "drRp1KXxuY1i",
        "outputId": "bdbf31d0-1f31-4efe-bb97-0625326b4220"
      },
      "source": [
        "b.insert(20)\n",
        "b.insert(30)\n",
        "visualize_tree(b)"
      ],
      "execution_count": 78,
      "outputs": [
        {
          "output_type": "display_data",
          "data": {
            "text/plain": [
              "<graphviz.dot.Digraph at 0x7f4e60b2c790>"
            ],
            "image/svg+xml": "<?xml version=\"1.0\" encoding=\"UTF-8\" standalone=\"no\"?>\n<!DOCTYPE svg PUBLIC \"-//W3C//DTD SVG 1.1//EN\"\n \"http://www.w3.org/Graphics/SVG/1.1/DTD/svg11.dtd\">\n<!-- Generated by graphviz version 2.40.1 (20161225.0304)\n -->\n<!-- Title: %3 Pages: 1 -->\n<svg width=\"58pt\" height=\"306pt\"\n viewBox=\"0.00 0.00 57.60 306.39\" xmlns=\"http://www.w3.org/2000/svg\" xmlns:xlink=\"http://www.w3.org/1999/xlink\">\n<g id=\"graph0\" class=\"graph\" transform=\"scale(1 1) rotate(0) translate(4 302.3852)\">\n<title>%3</title>\n<polygon fill=\"#ffffff\" stroke=\"transparent\" points=\"-4,4 -4,-302.3852 53.5963,-302.3852 53.5963,4 -4,4\"/>\n<!-- __main__.BST object at 0x7f4e604351d0 -->\n<g id=\"node1\" class=\"node\">\n<title>__main__.BST object at 0x7f4e604351d0</title>\n<ellipse fill=\"none\" stroke=\"#000000\" cx=\"24.7982\" cy=\"-277.5871\" rx=\"20.5982\" ry=\"20.5982\"/>\n<text text-anchor=\"middle\" x=\"24.7982\" y=\"-273.8871\" font-family=\"Times,serif\" font-size=\"14.00\" fill=\"#000000\">20</text>\n</g>\n<!-- __main__.BST object at 0x7f4e60435fd0 -->\n<g id=\"node2\" class=\"node\">\n<title>__main__.BST object at 0x7f4e60435fd0</title>\n<ellipse fill=\"#fff5ee\" stroke=\"#000000\" cx=\"24.7982\" cy=\"-195.9908\" rx=\"20.6302\" ry=\"20.6302\"/>\n<ellipse fill=\"none\" stroke=\"#000000\" cx=\"24.7982\" cy=\"-195.9908\" rx=\"24.5979\" ry=\"24.5979\"/>\n<text text-anchor=\"middle\" x=\"24.7982\" y=\"-192.2908\" font-family=\"Times,serif\" font-size=\"14.00\" fill=\"#000000\">20</text>\n</g>\n<!-- __main__.BST object at 0x7f4e604351d0&#45;&gt;__main__.BST object at 0x7f4e60435fd0 -->\n<g id=\"edge1\" class=\"edge\">\n<title>__main__.BST object at 0x7f4e604351d0&#45;&gt;__main__.BST object at 0x7f4e60435fd0</title>\n<path fill=\"none\" stroke=\"#000000\" d=\"M24.7982,-256.574C24.7982,-248.8529 24.7982,-239.8843 24.7982,-231.2526\"/>\n<polygon fill=\"#000000\" stroke=\"#000000\" points=\"28.2983,-230.9973 24.7982,-220.9973 21.2983,-230.9974 28.2983,-230.9973\"/>\n</g>\n<!-- __main__.BST object at 0x7f4e60b2c890 -->\n<g id=\"node3\" class=\"node\">\n<title>__main__.BST object at 0x7f4e60b2c890</title>\n<ellipse fill=\"#fff5ee\" stroke=\"#000000\" cx=\"24.7982\" cy=\"-110.3945\" rx=\"20.6302\" ry=\"20.6302\"/>\n<ellipse fill=\"none\" stroke=\"#000000\" cx=\"24.7982\" cy=\"-110.3945\" rx=\"24.5979\" ry=\"24.5979\"/>\n<text text-anchor=\"middle\" x=\"24.7982\" y=\"-106.6945\" font-family=\"Times,serif\" font-size=\"14.00\" fill=\"#000000\">20</text>\n</g>\n<!-- __main__.BST object at 0x7f4e60435fd0&#45;&gt;__main__.BST object at 0x7f4e60b2c890 -->\n<g id=\"edge2\" class=\"edge\">\n<title>__main__.BST object at 0x7f4e60435fd0&#45;&gt;__main__.BST object at 0x7f4e60b2c890</title>\n<path fill=\"none\" stroke=\"#000000\" d=\"M24.7982,-170.772C24.7982,-162.8486 24.7982,-153.9523 24.7982,-145.4739\"/>\n<polygon fill=\"#000000\" stroke=\"#000000\" points=\"28.2983,-145.4329 24.7982,-135.433 21.2983,-145.433 28.2983,-145.4329\"/>\n</g>\n<!-- __main__.BST object at 0x7f4e60b2cfd0 -->\n<g id=\"node4\" class=\"node\">\n<title>__main__.BST object at 0x7f4e60b2cfd0</title>\n<ellipse fill=\"#fff5ee\" stroke=\"#000000\" cx=\"24.7982\" cy=\"-24.7982\" rx=\"20.6302\" ry=\"20.6302\"/>\n<ellipse fill=\"none\" stroke=\"#000000\" cx=\"24.7982\" cy=\"-24.7982\" rx=\"24.5979\" ry=\"24.5979\"/>\n<text text-anchor=\"middle\" x=\"24.7982\" y=\"-21.0982\" font-family=\"Times,serif\" font-size=\"14.00\" fill=\"#000000\">30</text>\n</g>\n<!-- __main__.BST object at 0x7f4e60b2c890&#45;&gt;__main__.BST object at 0x7f4e60b2cfd0 -->\n<g id=\"edge3\" class=\"edge\">\n<title>__main__.BST object at 0x7f4e60b2c890&#45;&gt;__main__.BST object at 0x7f4e60b2cfd0</title>\n<path fill=\"none\" stroke=\"#000000\" d=\"M24.7982,-85.1757C24.7982,-77.2523 24.7982,-68.356 24.7982,-59.8776\"/>\n<polygon fill=\"#000000\" stroke=\"#000000\" points=\"28.2983,-59.8366 24.7982,-49.8367 21.2983,-59.8367 28.2983,-59.8366\"/>\n</g>\n</g>\n</svg>\n"
          },
          "metadata": {
            "tags": []
          }
        }
      ]
    },
    {
      "cell_type": "code",
      "metadata": {
        "id": "Lzda_OkSublu"
      },
      "source": [
        "## deletion from the BST "
      ],
      "execution_count": 80,
      "outputs": []
    },
    {
      "cell_type": "code",
      "metadata": {
        "id": "0_YlB5M5uinj"
      },
      "source": [
        "## first we make helper functions"
      ],
      "execution_count": 81,
      "outputs": []
    },
    {
      "cell_type": "code",
      "metadata": {
        "id": "jVVptcyGuyU3"
      },
      "source": [
        "def find_root(self):\n",
        "\n",
        "  ''' find the absolute root fo the BST to whicj self belong. keep going untilll reach parent '''\n",
        "  temp = self\n",
        "\n",
        "  while temp.parent is not None:\n",
        "    temp = temp.parent\n",
        "\n",
        "  return temp\n",
        "\n",
        "BST.find_root = find_root"
      ],
      "execution_count": 84,
      "outputs": []
    },
    {
      "cell_type": "code",
      "metadata": {
        "id": "CXApvVowv7di"
      },
      "source": [
        "def find_min(self):\n",
        "\n",
        "  \"\"\"find the minimum value start from the self.\n",
        "  in BST this is simple , keep going left untill no more left is left\"\"\"\n",
        "\n",
        "  min_node = self\n",
        "  if self.left is not None:\n",
        "    min_node = find_min(self.left)\n",
        "\n",
        "  return min_node\n",
        "\n",
        "\n",
        "BST.find_min = find_min"
      ],
      "execution_count": 85,
      "outputs": []
    },
    {
      "cell_type": "code",
      "metadata": {
        "colab": {
          "base_uri": "https://localhost:8080/",
          "height": 446
        },
        "id": "0cakwaOvwxTh",
        "outputId": "6f8d6897-955b-409e-9bbc-40b8bed429f1"
      },
      "source": [
        "visualize_tree(b)\n",
        "print(\"min is : \",b.find_min().val)"
      ],
      "execution_count": 87,
      "outputs": [
        {
          "output_type": "display_data",
          "data": {
            "text/plain": [
              "<graphviz.dot.Digraph at 0x7f4e60436710>"
            ],
            "image/svg+xml": "<?xml version=\"1.0\" encoding=\"UTF-8\" standalone=\"no\"?>\n<!DOCTYPE svg PUBLIC \"-//W3C//DTD SVG 1.1//EN\"\n \"http://www.w3.org/Graphics/SVG/1.1/DTD/svg11.dtd\">\n<!-- Generated by graphviz version 2.40.1 (20161225.0304)\n -->\n<!-- Title: %3 Pages: 1 -->\n<svg width=\"58pt\" height=\"306pt\"\n viewBox=\"0.00 0.00 57.60 306.39\" xmlns=\"http://www.w3.org/2000/svg\" xmlns:xlink=\"http://www.w3.org/1999/xlink\">\n<g id=\"graph0\" class=\"graph\" transform=\"scale(1 1) rotate(0) translate(4 302.3852)\">\n<title>%3</title>\n<polygon fill=\"#ffffff\" stroke=\"transparent\" points=\"-4,4 -4,-302.3852 53.5963,-302.3852 53.5963,4 -4,4\"/>\n<!-- __main__.BST object at 0x7f4e604351d0 -->\n<g id=\"node1\" class=\"node\">\n<title>__main__.BST object at 0x7f4e604351d0</title>\n<ellipse fill=\"none\" stroke=\"#000000\" cx=\"24.7982\" cy=\"-277.5871\" rx=\"20.5982\" ry=\"20.5982\"/>\n<text text-anchor=\"middle\" x=\"24.7982\" y=\"-273.8871\" font-family=\"Times,serif\" font-size=\"14.00\" fill=\"#000000\">20</text>\n</g>\n<!-- __main__.BST object at 0x7f4e60435fd0 -->\n<g id=\"node2\" class=\"node\">\n<title>__main__.BST object at 0x7f4e60435fd0</title>\n<ellipse fill=\"#fff5ee\" stroke=\"#000000\" cx=\"24.7982\" cy=\"-195.9908\" rx=\"20.6302\" ry=\"20.6302\"/>\n<ellipse fill=\"none\" stroke=\"#000000\" cx=\"24.7982\" cy=\"-195.9908\" rx=\"24.5979\" ry=\"24.5979\"/>\n<text text-anchor=\"middle\" x=\"24.7982\" y=\"-192.2908\" font-family=\"Times,serif\" font-size=\"14.00\" fill=\"#000000\">20</text>\n</g>\n<!-- __main__.BST object at 0x7f4e604351d0&#45;&gt;__main__.BST object at 0x7f4e60435fd0 -->\n<g id=\"edge1\" class=\"edge\">\n<title>__main__.BST object at 0x7f4e604351d0&#45;&gt;__main__.BST object at 0x7f4e60435fd0</title>\n<path fill=\"none\" stroke=\"#000000\" d=\"M24.7982,-256.574C24.7982,-248.8529 24.7982,-239.8843 24.7982,-231.2526\"/>\n<polygon fill=\"#000000\" stroke=\"#000000\" points=\"28.2983,-230.9973 24.7982,-220.9973 21.2983,-230.9974 28.2983,-230.9973\"/>\n</g>\n<!-- __main__.BST object at 0x7f4e60b2c890 -->\n<g id=\"node3\" class=\"node\">\n<title>__main__.BST object at 0x7f4e60b2c890</title>\n<ellipse fill=\"#fff5ee\" stroke=\"#000000\" cx=\"24.7982\" cy=\"-110.3945\" rx=\"20.6302\" ry=\"20.6302\"/>\n<ellipse fill=\"none\" stroke=\"#000000\" cx=\"24.7982\" cy=\"-110.3945\" rx=\"24.5979\" ry=\"24.5979\"/>\n<text text-anchor=\"middle\" x=\"24.7982\" y=\"-106.6945\" font-family=\"Times,serif\" font-size=\"14.00\" fill=\"#000000\">20</text>\n</g>\n<!-- __main__.BST object at 0x7f4e60435fd0&#45;&gt;__main__.BST object at 0x7f4e60b2c890 -->\n<g id=\"edge2\" class=\"edge\">\n<title>__main__.BST object at 0x7f4e60435fd0&#45;&gt;__main__.BST object at 0x7f4e60b2c890</title>\n<path fill=\"none\" stroke=\"#000000\" d=\"M24.7982,-170.772C24.7982,-162.8486 24.7982,-153.9523 24.7982,-145.4739\"/>\n<polygon fill=\"#000000\" stroke=\"#000000\" points=\"28.2983,-145.4329 24.7982,-135.433 21.2983,-145.433 28.2983,-145.4329\"/>\n</g>\n<!-- __main__.BST object at 0x7f4e60b2cfd0 -->\n<g id=\"node4\" class=\"node\">\n<title>__main__.BST object at 0x7f4e60b2cfd0</title>\n<ellipse fill=\"#fff5ee\" stroke=\"#000000\" cx=\"24.7982\" cy=\"-24.7982\" rx=\"20.6302\" ry=\"20.6302\"/>\n<ellipse fill=\"none\" stroke=\"#000000\" cx=\"24.7982\" cy=\"-24.7982\" rx=\"24.5979\" ry=\"24.5979\"/>\n<text text-anchor=\"middle\" x=\"24.7982\" y=\"-21.0982\" font-family=\"Times,serif\" font-size=\"14.00\" fill=\"#000000\">30</text>\n</g>\n<!-- __main__.BST object at 0x7f4e60b2c890&#45;&gt;__main__.BST object at 0x7f4e60b2cfd0 -->\n<g id=\"edge3\" class=\"edge\">\n<title>__main__.BST object at 0x7f4e60b2c890&#45;&gt;__main__.BST object at 0x7f4e60b2cfd0</title>\n<path fill=\"none\" stroke=\"#000000\" d=\"M24.7982,-85.1757C24.7982,-77.2523 24.7982,-68.356 24.7982,-59.8776\"/>\n<polygon fill=\"#000000\" stroke=\"#000000\" points=\"28.2983,-59.8366 24.7982,-49.8367 21.2983,-59.8367 28.2983,-59.8366\"/>\n</g>\n</g>\n</svg>\n"
          },
          "metadata": {
            "tags": []
          }
        },
        {
          "output_type": "stream",
          "text": [
            "min is :  20\n"
          ],
          "name": "stdout"
        }
      ]
    },
    {
      "cell_type": "code",
      "metadata": {
        "id": "Xc67kb_RwzP7"
      },
      "source": [
        "def set_for_parents(self,new_ref):\n",
        "  \"\"\"Disconnect self from parent and attach new_ref to parent in self place \"\"\"\n",
        "\n",
        "  if self.parent is None:\n",
        "    return\n",
        "\n",
        "  if self.parent.right == self:\n",
        "    self.parent.right=new_ref\n",
        "\n",
        "  if self.parent.left == self:\n",
        "    self.parent.left=new_ref\n",
        "\n",
        "BST.set_for_parents =set_for_parents "
      ],
      "execution_count": 88,
      "outputs": []
    },
    {
      "cell_type": "code",
      "metadata": {
        "id": "kAPL51IP3yx-"
      },
      "source": [
        "def replace_with_node(self,node):\n",
        "  \"\"\"Replace self with node which is a child). Make sure to fix the parent of the \n",
        "  of the node and parent to node.Assue we have no children other than node \"\"\"\n",
        "\n",
        "  self.set_for_parents(node) # connect new to parent on proper locations\n",
        "  node.parent=  self.parent   # set node paent correctly\n",
        "  self.parent = None   # disconnect self from the parent\n",
        "  return node.find_root()  # find root again\n",
        "\n",
        "BST.replace_with_node = replace_with_node\n"
      ],
      "execution_count": 89,
      "outputs": []
    },
    {
      "cell_type": "code",
      "metadata": {
        "id": "Es9YQ1lM4kXv"
      },
      "source": [
        "def delete(self,val):\n",
        "  ## first if we are alone , on the root and no chikdren plus the value matches just retunr the None\n",
        "  if self.parent is None and self.right is None and self.left is None and self.val == val:\n",
        "    return None\n",
        "  \n",
        "  ## we are node to be deleted\n",
        "\n",
        "  if self.val==val:\n",
        "\n",
        "    #check if we are leaf\n",
        "\n",
        "    if self.right is None and self.left is None:\n",
        "      self.set_for_parent(None)  ## set in place of the self a None\n",
        "      return self.find_root()\n",
        "\n",
        "    ## check if we have just a left node\n",
        "\n",
        "    if self.right is None:\n",
        "      return self.replace_with_node(self.left)\n",
        "\n",
        "    #3 check if we have just a righ node\n",
        "\n",
        "    if self.left is None:\n",
        "      return self.repace_with_node(self.right)\n",
        "\n",
        "    ## now we have both children. find the successor and replace \"self\" with it.\n",
        "    ## (our succ is definitly in our right child and it can;t have two children)\n",
        "    ## becuase ledt child will always be smaller\n",
        "    successor = self.right.find_min()\n",
        "\n",
        "    ## copy successor val here\n",
        "\n",
        "    self.val = successor.val\n",
        "\n",
        "    return self.right.delete(successor.val)\n",
        "\n",
        "    # ^ delete the sucessor node, which is in our right child BST.\n",
        "    # ^ its guaranteed that is a simpler case since successor cannot have a leeft child\n",
        "\n",
        "    # we were not the node to be deleted , go to the children\n",
        "\n",
        "    if val<self.val:\n",
        "      if self.left is not None:\n",
        "        return self.left.delete(val)\n",
        "      else:\n",
        "        return self.din_root() ## nothing to delete\n",
        "    else:\n",
        "      if self.right is not None:\n",
        "        return self.right.delete(val)\n",
        "      else:\n",
        "        return self.find_root()\n",
        "\n",
        "\n",
        "BST.delete = delete\n",
        "    \n",
        "  "
      ],
      "execution_count": 94,
      "outputs": []
    },
    {
      "cell_type": "code",
      "metadata": {
        "id": "Kk2rVDZL61vz"
      },
      "source": [
        "b = BST(30)\n",
        "b.insert(1)\n",
        "b.insert(2)\n",
        "b.insert(3)\n",
        "b.insert(4)\n",
        "b.insert(5)"
      ],
      "execution_count": 95,
      "outputs": []
    },
    {
      "cell_type": "code",
      "metadata": {
        "colab": {
          "base_uri": "https://localhost:8080/",
          "height": 610
        },
        "id": "-idM3Q7m7kJq",
        "outputId": "ba7eced6-11e8-460e-caf4-c673f5547d5b"
      },
      "source": [
        "visualize_tree(b)"
      ],
      "execution_count": 96,
      "outputs": [
        {
          "output_type": "display_data",
          "data": {
            "text/plain": [
              "<graphviz.dot.Digraph at 0x7f4e60436490>"
            ],
            "image/svg+xml": "<?xml version=\"1.0\" encoding=\"UTF-8\" standalone=\"no\"?>\n<!DOCTYPE svg PUBLIC \"-//W3C//DTD SVG 1.1//EN\"\n \"http://www.w3.org/Graphics/SVG/1.1/DTD/svg11.dtd\">\n<!-- Generated by graphviz version 2.40.1 (20161225.0304)\n -->\n<!-- Title: %3 Pages: 1 -->\n<svg width=\"52pt\" height=\"442pt\"\n viewBox=\"0.00 0.00 52.00 441.60\" xmlns=\"http://www.w3.org/2000/svg\" xmlns:xlink=\"http://www.w3.org/1999/xlink\">\n<g id=\"graph0\" class=\"graph\" transform=\"scale(1 1) rotate(0) translate(4 437.5963)\">\n<title>%3</title>\n<polygon fill=\"#ffffff\" stroke=\"transparent\" points=\"-4,4 -4,-437.5963 48,-437.5963 48,4 -4,4\"/>\n<!-- __main__.BST object at 0x7f4e60489e90 -->\n<g id=\"node1\" class=\"node\">\n<title>__main__.BST object at 0x7f4e60489e90</title>\n<ellipse fill=\"none\" stroke=\"#000000\" cx=\"22\" cy=\"-412.7982\" rx=\"20.5982\" ry=\"20.5982\"/>\n<text text-anchor=\"middle\" x=\"22\" y=\"-409.0982\" font-family=\"Times,serif\" font-size=\"14.00\" fill=\"#000000\">30</text>\n</g>\n<!-- __main__.BST object at 0x7f4e60489ed0 -->\n<g id=\"node2\" class=\"node\">\n<title>__main__.BST object at 0x7f4e60489ed0</title>\n<ellipse fill=\"#add8e6\" stroke=\"#000000\" cx=\"22\" cy=\"-338\" rx=\"18\" ry=\"18\"/>\n<text text-anchor=\"middle\" x=\"22\" y=\"-334.3\" font-family=\"Times,serif\" font-size=\"14.00\" fill=\"#000000\">1</text>\n</g>\n<!-- __main__.BST object at 0x7f4e60489e90&#45;&gt;__main__.BST object at 0x7f4e60489ed0 -->\n<g id=\"edge1\" class=\"edge\">\n<title>__main__.BST object at 0x7f4e60489e90&#45;&gt;__main__.BST object at 0x7f4e60489ed0</title>\n<path fill=\"none\" stroke=\"#000000\" d=\"M22,-391.9627C22,-384.0603 22,-374.9214 22,-366.4366\"/>\n<polygon fill=\"#000000\" stroke=\"#000000\" points=\"25.5001,-366.1811 22,-356.1811 18.5001,-366.1812 25.5001,-366.1811\"/>\n</g>\n<!-- __main__.BST object at 0x7f4e60489510 -->\n<g id=\"node3\" class=\"node\">\n<title>__main__.BST object at 0x7f4e60489510</title>\n<ellipse fill=\"#fff5ee\" stroke=\"#000000\" cx=\"22\" cy=\"-262\" rx=\"18\" ry=\"18\"/>\n<ellipse fill=\"none\" stroke=\"#000000\" cx=\"22\" cy=\"-262\" rx=\"22\" ry=\"22\"/>\n<text text-anchor=\"middle\" x=\"22\" y=\"-258.3\" font-family=\"Times,serif\" font-size=\"14.00\" fill=\"#000000\">2</text>\n</g>\n<!-- __main__.BST object at 0x7f4e60489ed0&#45;&gt;__main__.BST object at 0x7f4e60489510 -->\n<g id=\"edge2\" class=\"edge\">\n<title>__main__.BST object at 0x7f4e60489ed0&#45;&gt;__main__.BST object at 0x7f4e60489510</title>\n<path fill=\"none\" stroke=\"#000000\" d=\"M22,-319.9891C22,-312.291 22,-303.0629 22,-294.2561\"/>\n<polygon fill=\"#000000\" stroke=\"#000000\" points=\"25.5001,-294.2282 22,-284.2282 18.5001,-294.2282 25.5001,-294.2282\"/>\n</g>\n<!-- __main__.BST object at 0x7f4e604893d0 -->\n<g id=\"node4\" class=\"node\">\n<title>__main__.BST object at 0x7f4e604893d0</title>\n<ellipse fill=\"#fff5ee\" stroke=\"#000000\" cx=\"22\" cy=\"-182\" rx=\"18\" ry=\"18\"/>\n<ellipse fill=\"none\" stroke=\"#000000\" cx=\"22\" cy=\"-182\" rx=\"22\" ry=\"22\"/>\n<text text-anchor=\"middle\" x=\"22\" y=\"-178.3\" font-family=\"Times,serif\" font-size=\"14.00\" fill=\"#000000\">3</text>\n</g>\n<!-- __main__.BST object at 0x7f4e60489510&#45;&gt;__main__.BST object at 0x7f4e604893d0 -->\n<g id=\"edge3\" class=\"edge\">\n<title>__main__.BST object at 0x7f4e60489510&#45;&gt;__main__.BST object at 0x7f4e604893d0</title>\n<path fill=\"none\" stroke=\"#000000\" d=\"M22,-239.7155C22,-231.827 22,-222.7865 22,-214.2379\"/>\n<polygon fill=\"#000000\" stroke=\"#000000\" points=\"25.5001,-214.1649 22,-204.165 18.5001,-214.165 25.5001,-214.1649\"/>\n</g>\n<!-- __main__.BST object at 0x7f4e60489690 -->\n<g id=\"node5\" class=\"node\">\n<title>__main__.BST object at 0x7f4e60489690</title>\n<ellipse fill=\"#fff5ee\" stroke=\"#000000\" cx=\"22\" cy=\"-102\" rx=\"18\" ry=\"18\"/>\n<ellipse fill=\"none\" stroke=\"#000000\" cx=\"22\" cy=\"-102\" rx=\"22\" ry=\"22\"/>\n<text text-anchor=\"middle\" x=\"22\" y=\"-98.3\" font-family=\"Times,serif\" font-size=\"14.00\" fill=\"#000000\">4</text>\n</g>\n<!-- __main__.BST object at 0x7f4e604893d0&#45;&gt;__main__.BST object at 0x7f4e60489690 -->\n<g id=\"edge4\" class=\"edge\">\n<title>__main__.BST object at 0x7f4e604893d0&#45;&gt;__main__.BST object at 0x7f4e60489690</title>\n<path fill=\"none\" stroke=\"#000000\" d=\"M22,-159.7155C22,-151.827 22,-142.7865 22,-134.2379\"/>\n<polygon fill=\"#000000\" stroke=\"#000000\" points=\"25.5001,-134.1649 22,-124.165 18.5001,-134.165 25.5001,-134.1649\"/>\n</g>\n<!-- __main__.BST object at 0x7f4e604899d0 -->\n<g id=\"node6\" class=\"node\">\n<title>__main__.BST object at 0x7f4e604899d0</title>\n<ellipse fill=\"#fff5ee\" stroke=\"#000000\" cx=\"22\" cy=\"-22\" rx=\"18\" ry=\"18\"/>\n<ellipse fill=\"none\" stroke=\"#000000\" cx=\"22\" cy=\"-22\" rx=\"22\" ry=\"22\"/>\n<text text-anchor=\"middle\" x=\"22\" y=\"-18.3\" font-family=\"Times,serif\" font-size=\"14.00\" fill=\"#000000\">5</text>\n</g>\n<!-- __main__.BST object at 0x7f4e60489690&#45;&gt;__main__.BST object at 0x7f4e604899d0 -->\n<g id=\"edge5\" class=\"edge\">\n<title>__main__.BST object at 0x7f4e60489690&#45;&gt;__main__.BST object at 0x7f4e604899d0</title>\n<path fill=\"none\" stroke=\"#000000\" d=\"M22,-79.7155C22,-71.827 22,-62.7865 22,-54.2379\"/>\n<polygon fill=\"#000000\" stroke=\"#000000\" points=\"25.5001,-54.1649 22,-44.165 18.5001,-54.165 25.5001,-54.1649\"/>\n</g>\n</g>\n</svg>\n"
          },
          "metadata": {
            "tags": []
          }
        }
      ]
    },
    {
      "cell_type": "code",
      "metadata": {
        "id": "GvLkZ7p77mYD"
      },
      "source": [
        "b.delete(4)"
      ],
      "execution_count": 97,
      "outputs": []
    },
    {
      "cell_type": "code",
      "metadata": {
        "colab": {
          "base_uri": "https://localhost:8080/",
          "height": 610
        },
        "id": "ll0Aiqpa7sbj",
        "outputId": "8134f51c-efcd-402c-8ab3-46a47d1619b5"
      },
      "source": [
        "visualize_tree(b)"
      ],
      "execution_count": 98,
      "outputs": [
        {
          "output_type": "display_data",
          "data": {
            "text/plain": [
              "<graphviz.dot.Digraph at 0x7f4e60435910>"
            ],
            "image/svg+xml": "<?xml version=\"1.0\" encoding=\"UTF-8\" standalone=\"no\"?>\n<!DOCTYPE svg PUBLIC \"-//W3C//DTD SVG 1.1//EN\"\n \"http://www.w3.org/Graphics/SVG/1.1/DTD/svg11.dtd\">\n<!-- Generated by graphviz version 2.40.1 (20161225.0304)\n -->\n<!-- Title: %3 Pages: 1 -->\n<svg width=\"52pt\" height=\"442pt\"\n viewBox=\"0.00 0.00 52.00 441.60\" xmlns=\"http://www.w3.org/2000/svg\" xmlns:xlink=\"http://www.w3.org/1999/xlink\">\n<g id=\"graph0\" class=\"graph\" transform=\"scale(1 1) rotate(0) translate(4 437.5963)\">\n<title>%3</title>\n<polygon fill=\"#ffffff\" stroke=\"transparent\" points=\"-4,4 -4,-437.5963 48,-437.5963 48,4 -4,4\"/>\n<!-- __main__.BST object at 0x7f4e60489e90 -->\n<g id=\"node1\" class=\"node\">\n<title>__main__.BST object at 0x7f4e60489e90</title>\n<ellipse fill=\"none\" stroke=\"#000000\" cx=\"22\" cy=\"-412.7982\" rx=\"20.5982\" ry=\"20.5982\"/>\n<text text-anchor=\"middle\" x=\"22\" y=\"-409.0982\" font-family=\"Times,serif\" font-size=\"14.00\" fill=\"#000000\">30</text>\n</g>\n<!-- __main__.BST object at 0x7f4e60489ed0 -->\n<g id=\"node2\" class=\"node\">\n<title>__main__.BST object at 0x7f4e60489ed0</title>\n<ellipse fill=\"#add8e6\" stroke=\"#000000\" cx=\"22\" cy=\"-338\" rx=\"18\" ry=\"18\"/>\n<text text-anchor=\"middle\" x=\"22\" y=\"-334.3\" font-family=\"Times,serif\" font-size=\"14.00\" fill=\"#000000\">1</text>\n</g>\n<!-- __main__.BST object at 0x7f4e60489e90&#45;&gt;__main__.BST object at 0x7f4e60489ed0 -->\n<g id=\"edge1\" class=\"edge\">\n<title>__main__.BST object at 0x7f4e60489e90&#45;&gt;__main__.BST object at 0x7f4e60489ed0</title>\n<path fill=\"none\" stroke=\"#000000\" d=\"M22,-391.9627C22,-384.0603 22,-374.9214 22,-366.4366\"/>\n<polygon fill=\"#000000\" stroke=\"#000000\" points=\"25.5001,-366.1811 22,-356.1811 18.5001,-366.1812 25.5001,-366.1811\"/>\n</g>\n<!-- __main__.BST object at 0x7f4e60489510 -->\n<g id=\"node3\" class=\"node\">\n<title>__main__.BST object at 0x7f4e60489510</title>\n<ellipse fill=\"#fff5ee\" stroke=\"#000000\" cx=\"22\" cy=\"-262\" rx=\"18\" ry=\"18\"/>\n<ellipse fill=\"none\" stroke=\"#000000\" cx=\"22\" cy=\"-262\" rx=\"22\" ry=\"22\"/>\n<text text-anchor=\"middle\" x=\"22\" y=\"-258.3\" font-family=\"Times,serif\" font-size=\"14.00\" fill=\"#000000\">2</text>\n</g>\n<!-- __main__.BST object at 0x7f4e60489ed0&#45;&gt;__main__.BST object at 0x7f4e60489510 -->\n<g id=\"edge2\" class=\"edge\">\n<title>__main__.BST object at 0x7f4e60489ed0&#45;&gt;__main__.BST object at 0x7f4e60489510</title>\n<path fill=\"none\" stroke=\"#000000\" d=\"M22,-319.9891C22,-312.291 22,-303.0629 22,-294.2561\"/>\n<polygon fill=\"#000000\" stroke=\"#000000\" points=\"25.5001,-294.2282 22,-284.2282 18.5001,-294.2282 25.5001,-294.2282\"/>\n</g>\n<!-- __main__.BST object at 0x7f4e604893d0 -->\n<g id=\"node4\" class=\"node\">\n<title>__main__.BST object at 0x7f4e604893d0</title>\n<ellipse fill=\"#fff5ee\" stroke=\"#000000\" cx=\"22\" cy=\"-182\" rx=\"18\" ry=\"18\"/>\n<ellipse fill=\"none\" stroke=\"#000000\" cx=\"22\" cy=\"-182\" rx=\"22\" ry=\"22\"/>\n<text text-anchor=\"middle\" x=\"22\" y=\"-178.3\" font-family=\"Times,serif\" font-size=\"14.00\" fill=\"#000000\">3</text>\n</g>\n<!-- __main__.BST object at 0x7f4e60489510&#45;&gt;__main__.BST object at 0x7f4e604893d0 -->\n<g id=\"edge3\" class=\"edge\">\n<title>__main__.BST object at 0x7f4e60489510&#45;&gt;__main__.BST object at 0x7f4e604893d0</title>\n<path fill=\"none\" stroke=\"#000000\" d=\"M22,-239.7155C22,-231.827 22,-222.7865 22,-214.2379\"/>\n<polygon fill=\"#000000\" stroke=\"#000000\" points=\"25.5001,-214.1649 22,-204.165 18.5001,-214.165 25.5001,-214.1649\"/>\n</g>\n<!-- __main__.BST object at 0x7f4e60489690 -->\n<g id=\"node5\" class=\"node\">\n<title>__main__.BST object at 0x7f4e60489690</title>\n<ellipse fill=\"#fff5ee\" stroke=\"#000000\" cx=\"22\" cy=\"-102\" rx=\"18\" ry=\"18\"/>\n<ellipse fill=\"none\" stroke=\"#000000\" cx=\"22\" cy=\"-102\" rx=\"22\" ry=\"22\"/>\n<text text-anchor=\"middle\" x=\"22\" y=\"-98.3\" font-family=\"Times,serif\" font-size=\"14.00\" fill=\"#000000\">4</text>\n</g>\n<!-- __main__.BST object at 0x7f4e604893d0&#45;&gt;__main__.BST object at 0x7f4e60489690 -->\n<g id=\"edge4\" class=\"edge\">\n<title>__main__.BST object at 0x7f4e604893d0&#45;&gt;__main__.BST object at 0x7f4e60489690</title>\n<path fill=\"none\" stroke=\"#000000\" d=\"M22,-159.7155C22,-151.827 22,-142.7865 22,-134.2379\"/>\n<polygon fill=\"#000000\" stroke=\"#000000\" points=\"25.5001,-134.1649 22,-124.165 18.5001,-134.165 25.5001,-134.1649\"/>\n</g>\n<!-- __main__.BST object at 0x7f4e604899d0 -->\n<g id=\"node6\" class=\"node\">\n<title>__main__.BST object at 0x7f4e604899d0</title>\n<ellipse fill=\"#fff5ee\" stroke=\"#000000\" cx=\"22\" cy=\"-22\" rx=\"18\" ry=\"18\"/>\n<ellipse fill=\"none\" stroke=\"#000000\" cx=\"22\" cy=\"-22\" rx=\"22\" ry=\"22\"/>\n<text text-anchor=\"middle\" x=\"22\" y=\"-18.3\" font-family=\"Times,serif\" font-size=\"14.00\" fill=\"#000000\">5</text>\n</g>\n<!-- __main__.BST object at 0x7f4e60489690&#45;&gt;__main__.BST object at 0x7f4e604899d0 -->\n<g id=\"edge5\" class=\"edge\">\n<title>__main__.BST object at 0x7f4e60489690&#45;&gt;__main__.BST object at 0x7f4e604899d0</title>\n<path fill=\"none\" stroke=\"#000000\" d=\"M22,-79.7155C22,-71.827 22,-62.7865 22,-54.2379\"/>\n<polygon fill=\"#000000\" stroke=\"#000000\" points=\"25.5001,-54.1649 22,-44.165 18.5001,-54.165 25.5001,-54.1649\"/>\n</g>\n</g>\n</svg>\n"
          },
          "metadata": {
            "tags": []
          }
        }
      ]
    },
    {
      "cell_type": "code",
      "metadata": {
        "id": "AnmGYr5A7t4e"
      },
      "source": [
        ""
      ],
      "execution_count": null,
      "outputs": []
    }
  ]
}