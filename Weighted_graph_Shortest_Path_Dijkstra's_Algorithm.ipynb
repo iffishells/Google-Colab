{
  "nbformat": 4,
  "nbformat_minor": 0,
  "metadata": {
    "colab": {
      "name": "Weighted_graph-Shortest Path - Dijkstra's Algorithm.ipynb",
      "private_outputs": true,
      "provenance": [],
      "authorship_tag": "ABX9TyMFK5+Bgo07ktUarBlj9p23",
      "include_colab_link": true
    },
    "kernelspec": {
      "name": "python3",
      "display_name": "Python 3"
    },
    "language_info": {
      "name": "python"
    }
  },
  "cells": [
    {
      "cell_type": "markdown",
      "metadata": {
        "id": "view-in-github",
        "colab_type": "text"
      },
      "source": [
        "<a href=\"https://colab.research.google.com/github/iffishells/Google-Colab/blob/main/Weighted_graph_Shortest_Path_Dijkstra's_Algorithm.ipynb\" target=\"_parent\"><img src=\"https://colab.research.google.com/assets/colab-badge.svg\" alt=\"Open In Colab\"/></a>"
      ]
    },
    {
      "cell_type": "code",
      "metadata": {
        "id": "N00Ioxb-ee1Q"
      },
      "source": [
        "!pip install networkx  # install once \n"
      ],
      "execution_count": null,
      "outputs": []
    },
    {
      "cell_type": "code",
      "metadata": {
        "id": "JiBMULgxeoWr"
      },
      "source": [
        "import networkx as nx\n",
        "import matplotlib.pyplot as plt\n",
        "\n",
        "# for notebook http://localhost:8888/notebooks/19-graphs-weighted.ipynb#\n",
        "%matplotlib inline \n",
        "import warnings\n",
        "warnings.filterwarnings(\"ignore\")"
      ],
      "execution_count": null,
      "outputs": []
    },
    {
      "cell_type": "code",
      "metadata": {
        "id": "qxlalpaCeqlc"
      },
      "source": [
        "def draw_graph_with_nx(G): \n",
        "    pos = nx.spring_layout(G, iterations=200)\n",
        "    options = {'node_color': 'white', 'alpha': 1, 'node_size': 2000, 'width': 0.002, 'font_color': 'darkred', \n",
        "               'font_size': 25, 'arrows': True, 'edge_color': 'brown',\n",
        "               'arrowstyle': 'Fancy, head_length=1, head_width=1, tail_width=.4'\n",
        "              }\n",
        "    labels = nx.get_node_attributes(G, 'label')\n",
        "    weight_labels = nx.get_edge_attributes(G, 'weight')\n",
        "    nx.draw(G, pos, labels=labels,  **options)\n",
        "    nx.draw_networkx_edge_labels(G, pos, edge_labels=weight_labels, font_size=15)\n",
        "    plt.show()"
      ],
      "execution_count": null,
      "outputs": []
    },
    {
      "cell_type": "code",
      "metadata": {
        "id": "auQhB31ses66"
      },
      "source": [
        "class WeightedDiGraph: \n",
        "    def __init__(self): \n",
        "        self.g = {} \n",
        "        \n",
        "    def add_node(self, node): \n",
        "        if node in self.g: \n",
        "            raise ValueError(\"Node already in graph\")\n",
        "            \n",
        "        self.g[node] = [] \n",
        "\n",
        "    def add_edge(self, src, dest, weight): \n",
        "        if src not in self.g: \n",
        "            raise ValueError(\"Source node not in graph\")\n",
        "        if dest not in self.g: \n",
        "            raise ValueError(\"Destination node not in graph\")\n",
        "            \n",
        "        nexts = self.g[src]\n",
        "        if dest in nexts: \n",
        "            return \n",
        "        \n",
        "        nexts.append((dest, weight))\n",
        "        \n",
        "        \n",
        "    def draw_graph(self): \n",
        "        G = nx.DiGraph()\n",
        "        for src in self.g: \n",
        "            G.add_node(src, label=src) \n",
        "            for dest in self.g[src]:\n",
        "                G.add_edge(src, dest[0], weight=str(dest[1]))\n",
        "                \n",
        "        draw_graph_with_nx(G)"
      ],
      "execution_count": null,
      "outputs": []
    },
    {
      "cell_type": "code",
      "metadata": {
        "id": "XZD_TLkdevtD"
      },
      "source": [
        "g = WeightedDiGraph() \n",
        "\n",
        "nodes = ['a', 'b', 'c', 'd', 'e', 'f'] \n",
        "\n",
        "for n in nodes: \n",
        "    g.add_node(n) \n",
        "\n",
        "edges = [\n",
        "    ('a', 'b', 5),\n",
        "    ('a', 'c', 1),\n",
        "    ('b', 'c', 7),\n",
        "    ('b', 'd', 8),\n",
        "    ('c', 'd', 3),\n",
        "    ('d', 'c', 4),\n",
        "    ('e', 'f', 8),\n",
        "    ('f', 'c', 7)\n",
        "]\n",
        "\n",
        "for e in edges: \n",
        "    g.add_edge(e[0], e[1], e[2])"
      ],
      "execution_count": null,
      "outputs": []
    },
    {
      "cell_type": "code",
      "metadata": {
        "id": "h6FRBKxQey0k"
      },
      "source": [
        "g = WeightedDiGraph() \n",
        "\n",
        "nodes = ['a', 'b', 'c', 'd', 'e'] \n",
        "\n",
        "for n in nodes: \n",
        "    g.add_node(n) \n",
        "\n",
        "edges = [\n",
        "    ('a', 'b', 4),\n",
        "    ('a', 'c', 1),\n",
        "    ('b', 'd', 8),\n",
        "    ('c', 'e', 2),\n",
        "    ('e', 'd', 3),\n",
        "]\n",
        "\n",
        "for e in edges: \n",
        "    g.add_edge(e[0], e[1], e[2])"
      ],
      "execution_count": null,
      "outputs": []
    },
    {
      "cell_type": "code",
      "metadata": {
        "id": "0P6XwDRVe2Iz"
      },
      "source": [
        "g = WeightedDiGraph() \n",
        "\n",
        "nodes = ['a', 'b', 'c', 'd', 'e', 'f', 'g', 'h'] \n",
        "\n",
        "for n in nodes: \n",
        "    g.add_node(n) \n",
        "\n",
        "edges = [\n",
        "    ('a', 'b', 4),\n",
        "    ('a', 'c', 1),\n",
        "    ('b', 'd', 8),\n",
        "    ('c', 'e', 25),\n",
        "    ('e', 'd', 3),\n",
        "    ('d', 'f', 5),\n",
        "    ('d', 'g', 7),\n",
        "    ('f', 'h', 2),      # remove this first \n",
        "    ('g', 'h', 9),      # then this too \n",
        "]\n",
        "\n",
        "for e in edges: \n",
        "    g.add_edge(e[0], e[1], e[2])"
      ],
      "execution_count": null,
      "outputs": []
    },
    {
      "cell_type": "code",
      "metadata": {
        "id": "Uj4wZcMSe5Q2"
      },
      "source": [
        "import pprint    \n",
        "pprint.pprint(g.g)"
      ],
      "execution_count": null,
      "outputs": []
    },
    {
      "cell_type": "code",
      "metadata": {
        "id": "LHY2XpC6e7ND"
      },
      "source": [
        "g.draw_graph()\n"
      ],
      "execution_count": null,
      "outputs": []
    },
    {
      "cell_type": "code",
      "metadata": {
        "id": "vtMbASyBe9WY"
      },
      "source": [
        "def traverse_graph(self, start): \n",
        "    \"\"\"Traverse graph starting from given start node.\"\"\"\n",
        "    \n",
        "    q = [start] \n",
        "    visited = []\n",
        "    \n",
        "    while q: \n",
        "        current = q.pop(0)\n",
        "        \n",
        "        # if we've already visited it, we can skip \n",
        "        if current in visited: \n",
        "            continue \n",
        "        \n",
        "        print(current)\n",
        "        \n",
        "        # we're done with current \n",
        "        visited.append(current)\n",
        "        \n",
        "        # get all directly connected nodes \n",
        "        next_nodes = self.g[current]\n",
        "        \n",
        "        # traverse all the nexts\n",
        "        for n in next_nodes: \n",
        "            q.append(n[0])   # get node only instead of (dest, weight)\n",
        "    \n",
        "WeightedDiGraph.traverse_graph = traverse_graph"
      ],
      "execution_count": null,
      "outputs": []
    },
    {
      "cell_type": "code",
      "metadata": {
        "id": "8FBvFS4Ye_pp"
      },
      "source": [
        "g.traverse_graph('a') "
      ],
      "execution_count": null,
      "outputs": []
    },
    {
      "cell_type": "markdown",
      "metadata": {
        "id": "DNZ-KhMyfPCE"
      },
      "source": [
        "## *Shortest Path - Dijkstra's Algorithm*"
      ]
    },
    {
      "cell_type": "code",
      "metadata": {
        "id": "4IEEFOC9fDQf"
      },
      "source": [
        "def find_shortest_dijkstra(self, src): \n",
        "    # Mark all nodes unvisited and store them.\n",
        "    to_visit = list( self.g.keys() ) \n",
        "    \n",
        "    print(\"To visit: \" + str(to_visit))\n",
        "\n",
        "    # Set the distance to zero for our initial node and to infinity for other nodes. \n",
        "    inf = float('inf')   # that's python for infinity \n",
        "    dists = { node: inf for node in to_visit }\n",
        "    dists[src] = 0 \n",
        "    print(\"All distances\" + str(dists))\n",
        "    \n",
        "    \n",
        "    # let's loop \n",
        "    while to_visit: \n",
        "        print(\"---------\")\n",
        "        \n",
        "        # Select the unvisited node with the smallest distance\n",
        "        # can't compare 'a' with 'b'. So, we compare dists['a'] with dists['b']\n",
        "        current = min(to_visit, key=lambda node: dists[node])   \n",
        "        print(\"Current: \" + current)\n",
        "        \n",
        "        # check to make sure min distance isn't infinity \n",
        "        if dists[current] == inf: \n",
        "            break \n",
        "    \n",
        "        # Find unvisited neighbors for the current node \n",
        "        nexts = self.g[current]\n",
        "        unvisited_neighbors = [] \n",
        "        for n in nexts: \n",
        "            if n[0] in to_visit:    # recall that n is e.g. ('b', 5)\n",
        "                unvisited_neighbors.append(n)\n",
        "        \n",
        "        print(\"Unvisited neighbors of \" + current + \": \" + str(unvisited_neighbors))    \n",
        "        \n",
        "        \n",
        "        # calculate their distances through the current node\n",
        "        for n in unvisited_neighbors: \n",
        "            label = n[0]\n",
        "            dist_to = n[1]\n",
        "            \n",
        "            old_distance = dists[label]\n",
        "            new_distance = dists[current] + dist_to\n",
        "            \n",
        "            # See which is better: old best distance or this one \n",
        "            if new_distance < old_distance: \n",
        "                dists[label] = new_distance \n",
        "\n",
        "        \n",
        "        print(\"All distances\" + str(dists))\n",
        "        \n",
        "        # current is now visited \n",
        "        to_visit.remove(current)\n",
        "        \n",
        "        # break         # break after each iteration for demo \n",
        "\n",
        "\n",
        "WeightedDiGraph.find_shortest_dijkstra = find_shortest_dijkstra"
      ],
      "execution_count": null,
      "outputs": []
    },
    {
      "cell_type": "code",
      "metadata": {
        "id": "BwliyzZSfWgw"
      },
      "source": [
        "g.find_shortest_dijkstra('a')\n"
      ],
      "execution_count": null,
      "outputs": []
    },
    {
      "cell_type": "code",
      "metadata": {
        "id": "XJigVtzBfY44"
      },
      "source": [
        "def find_shortest_dijkstra(self, src, dest): \n",
        "    # Mark all nodes unvisited and store them.\n",
        "    to_visit = list( self.g.keys() ) \n",
        "    \n",
        "    print(\"To visit: \" + str(to_visit))\n",
        "\n",
        "    # Set the distance to zero for our initial node and to infinity for other nodes. \n",
        "    inf = float('inf')   # that's python for infinity \n",
        "    dists = { node: inf for node in to_visit }\n",
        "    dists[src] = 0 \n",
        "    print(\"All distances\" + str(dists))\n",
        "    \n",
        "    \n",
        "    best_paths = {} \n",
        "    best_paths[(src, src)] = [src]  # no move \n",
        "    \n",
        "    # let's loop \n",
        "    while to_visit: \n",
        "        print('--')\n",
        "        \n",
        "        # Select the unvisited node with the smallest distance\n",
        "        # can't compare 'a' with 'b'. So, we compare dists['a'] with dists['b']\n",
        "        current = min(to_visit, key=lambda node: dists[node])   \n",
        "        print(\"Current: \" + current)\n",
        "        \n",
        "        # check to make sure min distance isn't infinity \n",
        "        if dists[current] == inf: \n",
        "            break \n",
        "    \n",
        "        # Find unvisited neighbors for the current node \n",
        "        nexts = self.g[current]\n",
        "        unvisited_neighbors = [] \n",
        "        for n in nexts: \n",
        "            if n[0] in to_visit:    # recall that n is e.g. ('b', 5)\n",
        "                unvisited_neighbors.append(n)\n",
        "        \n",
        "        print(\"Unvisited neighbors of \" + current + \": \" + str(unvisited_neighbors))        \n",
        "        # calculate their distances through the current node\n",
        "        for n in unvisited_neighbors: \n",
        "            label = n[0]\n",
        "            dist_to = n[1]\n",
        "            \n",
        "            # get old best distance and new distance \n",
        "            old_distance = dists[label]\n",
        "            new_distance = dists[current] + dist_to\n",
        "            \n",
        "            # see if we are improving on old best \n",
        "            if new_distance < old_distance: \n",
        "                print(\"\\nFound new best path ...\")\n",
        "                dists[label] = new_distance \n",
        "                \n",
        "                \n",
        "                # also save path \n",
        "                # best way to get from src to label is src->current->label \n",
        "                path_to_current = best_paths[(src, current)][:]   # need a copy \n",
        "                best_paths[(src, label)] = path_to_current\n",
        "                best_paths[(src, label)].append(label)\n",
        "                print(\"Previous best path to current: \", best_paths[(src, current)])\n",
        "                print(\"Best path to:\", label, \": \", best_paths[(src, label)])\n",
        "\n",
        "        \n",
        "        print(\"All distances\" + str(dists))\n",
        "        \n",
        "        # current is now visited \n",
        "        to_visit.remove(current)\n",
        "        \n",
        "        # break         # break after each iteration for demo \n",
        "    return best_paths[(src, dest)], dists[dest]\n",
        "\n",
        "\n",
        "WeightedDiGraph.find_shortest_dijkstra = find_shortest_dijkstra"
      ],
      "execution_count": null,
      "outputs": []
    },
    {
      "cell_type": "code",
      "metadata": {
        "id": "08n13zmzfezt"
      },
      "source": [
        "g.find_shortest_dijkstra('a', 'h')"
      ],
      "execution_count": null,
      "outputs": []
    },
    {
      "cell_type": "code",
      "metadata": {
        "id": "QrjxL0myfg1-"
      },
      "source": [
        "g.find_shortest_dijkstra('a', 'h')"
      ],
      "execution_count": null,
      "outputs": []
    },
    {
      "cell_type": "code",
      "metadata": {
        "id": "70nv8-q7fjq8"
      },
      "source": [
        "g.draw_graph()"
      ],
      "execution_count": null,
      "outputs": []
    },
    {
      "cell_type": "code",
      "metadata": {
        "id": "ASQd6WKlfl2a"
      },
      "source": [
        ""
      ],
      "execution_count": null,
      "outputs": []
    }
  ]
}